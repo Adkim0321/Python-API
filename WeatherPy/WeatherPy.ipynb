{
 "cells": [
  {
   "cell_type": "markdown",
   "metadata": {},
   "source": [
    "# WeatherPy\n",
    "----\n",
    "\n",
    "#### Note\n",
    "* Instructions have been included for each segment. You do not have to follow them exactly, but they are included to help you think through the steps."
   ]
  },
  {
   "cell_type": "code",
   "execution_count": 1,
   "metadata": {
    "scrolled": true
   },
   "outputs": [],
   "source": [
    "# Dependencies and Setup\n",
    "import matplotlib.pyplot as plt\n",
    "import pandas as pd\n",
    "import numpy as np\n",
    "import requests\n",
    "import time\n",
    "from scipy.stats import linregress\n",
    "from pprint import pprint\n",
    "import os\n",
    "\n",
    "# Import API key\n",
    "\n",
    "from api_keys import api_key\n",
    "\n",
    "# Incorporated citipy to determine city based on latitude and longitude\n",
    "from citipy import citipy\n",
    "\n",
    "# Output File (CSV)\n",
    "output_data_file = \"output_data/cities.csv\"\n",
    "\n",
    "# Range of latitudes and longitudes\n",
    "lat_range = (-90, 90)\n",
    "lng_range = (-180, 180)"
   ]
  },
  {
   "cell_type": "markdown",
   "metadata": {},
   "source": [
    "## Generate Cities List"
   ]
  },
  {
   "cell_type": "code",
   "execution_count": 2,
   "metadata": {},
   "outputs": [
    {
     "data": {
      "text/plain": [
       "631"
      ]
     },
     "execution_count": 2,
     "metadata": {},
     "output_type": "execute_result"
    }
   ],
   "source": [
    "# List for holding lat_lngs and cities\n",
    "lat_lngs = []\n",
    "cities = []\n",
    "\n",
    "# Create a set of random lat and lng combinations\n",
    "lats = np.random.uniform(lat_range[0], lat_range[1], size=1500)\n",
    "lngs = np.random.uniform(lng_range[0], lng_range[1], size=1500)\n",
    "lat_lngs = zip(lats, lngs)\n",
    "\n",
    "# Identify nearest city for each lat, lng combination\n",
    "for lat_lng in lat_lngs:\n",
    "    city = citipy.nearest_city(lat_lng[0], lat_lng[1]).city_name\n",
    "    \n",
    "    # If the city is unique, then add it to a our cities list\n",
    "    if city not in cities:\n",
    "        cities.append(city)\n",
    "\n",
    "# Print the city count to confirm sufficient count\n",
    "len(cities)\n"
   ]
  },
  {
   "cell_type": "markdown",
   "metadata": {},
   "source": [
    "### Perform API Calls\n",
    "* Perform a weather check on each city using a series of successive API calls.\n",
    "* Include a print log of each city as it'sbeing processed (with the city number and city name).\n"
   ]
  },
  {
   "cell_type": "code",
   "execution_count": 3,
   "metadata": {},
   "outputs": [],
   "source": [
    "url = \"http://api.openweathermap.org/data/2.5/weather?\"\n",
    "units = \"imperial\"\n",
    "\n",
    "# Build partial query URL\n",
    "query_url = f\"{url}appid={api_key}&units={units}&q=\""
   ]
  },
  {
   "cell_type": "code",
   "execution_count": 4,
   "metadata": {
    "scrolled": true,
    "tags": []
   },
   "outputs": [
    {
     "name": "stdout",
     "output_type": "stream",
     "text": [
      "Proccessing Record 1 | city id 2088122 , port moresby\n",
      "Proccessing Record 2 | city id 3450083 , santa maria\n",
      "Proccessing Record 3 | city id 5935341 , dauphin\n",
      "Proccessing Record 4 | city id 3466165 , cidreira\n",
      "Proccessing Record 5 | city id 3421319 , nuuk\n",
      "'tabiauea not found skipping'\n",
      "Proccessing Record 6 | city id 2122605 , okhotsk\n",
      "Proccessing Record 7 | city id 4032243 , vaini\n",
      "Proccessing Record 8 | city id 2138555 , poum\n",
      "Proccessing Record 9 | city id 2206939 , bluff\n",
      "Proccessing Record 10 | city id 2063036 , port lincoln\n",
      "Proccessing Record 11 | city id 2122090 , pevek\n",
      "Proccessing Record 12 | city id 3833367 , ushuaia\n",
      "Proccessing Record 13 | city id 3892454 , diego de almagro\n",
      "Proccessing Record 14 | city id 3443061 , chuy\n",
      "Proccessing Record 15 | city id 3361934 , saldanha\n",
      "Proccessing Record 16 | city id 2074865 , carnarvon\n",
      "Proccessing Record 17 | city id 5880054 , barrow\n",
      "Proccessing Record 18 | city id 2075265 , busselton\n",
      "Proccessing Record 19 | city id 3874787 , punta arenas\n",
      "Proccessing Record 20 | city id 1503037 , kodinsk\n",
      "Proccessing Record 21 | city id 3870282 , talcahuano\n",
      "Proccessing Record 22 | city id 3372707 , ribeira grande\n",
      "Proccessing Record 23 | city id 4020109 , atuona\n",
      "Proccessing Record 24 | city id 6170031 , tuktoyaktuk\n",
      "Proccessing Record 25 | city id 2455290 , kidal\n",
      "Proccessing Record 26 | city id 6201424 , mataura\n",
      "'stoyba not found skipping'\n",
      "Proccessing Record 27 | city id 3436616 , ygatimi\n",
      "Proccessing Record 28 | city id 2070998 , geraldton\n",
      "Proccessing Record 29 | city id 4030556 , rikitea\n",
      "Proccessing Record 30 | city id 935215 , saint-philippe\n",
      "Proccessing Record 31 | city id 1633419 , padang\n",
      "Proccessing Record 32 | city id 5238499 , middlebury\n",
      "Proccessing Record 33 | city id 1337605 , mahibadhoo\n",
      "Proccessing Record 34 | city id 1278969 , along\n",
      "Proccessing Record 35 | city id 2137773 , vao\n",
      "Proccessing Record 36 | city id 2163355 , hobart\n",
      "Proccessing Record 37 | city id 4035715 , avarua\n",
      "'barentsburg not found skipping'\n",
      "Proccessing Record 38 | city id 3414079 , olafsvik\n",
      "Proccessing Record 39 | city id 4034551 , faanui\n",
      "Proccessing Record 40 | city id 2126123 , chokurdakh\n",
      "Proccessing Record 41 | city id 2377450 , nouakchott\n",
      "Proccessing Record 42 | city id 3465228 , coxim\n",
      "Proccessing Record 43 | city id 3413604 , eyrarbakki\n",
      "Proccessing Record 44 | city id 3870243 , taltal\n",
      "Proccessing Record 45 | city id 964432 , port alfred\n",
      "Proccessing Record 46 | city id 1507390 , dikson\n",
      "Proccessing Record 47 | city id 1512101 , agirish\n",
      "Proccessing Record 48 | city id 1489853 , tazovskiy\n",
      "Proccessing Record 49 | city id 5881688 , fort saint james\n",
      "Proccessing Record 50 | city id 5110365 , broome\n",
      "'rungata not found skipping'\n",
      "Proccessing Record 51 | city id 1274571 , charkhi dadri\n",
      "Proccessing Record 52 | city id 2242885 , camabatela\n",
      "Proccessing Record 53 | city id 2068110 , kununurra\n",
      "Proccessing Record 54 | city id 1282256 , hithadhoo\n",
      "Proccessing Record 55 | city id 1272145 , dwarahat\n",
      "Proccessing Record 56 | city id 3403251 , canto do buriti\n",
      "Proccessing Record 57 | city id 3369157 , cape town\n",
      "Proccessing Record 58 | city id 6185377 , yellowknife\n",
      "Proccessing Record 59 | city id 3466704 , castro\n",
      "Proccessing Record 60 | city id 6167817 , torbay\n",
      "'tsihombe not found skipping'\n",
      "Proccessing Record 61 | city id 2264557 , ponta do sol\n",
      "Proccessing Record 62 | city id 5374376 , monterey\n",
      "Proccessing Record 63 | city id 1337240 , nawabganj\n",
      "Proccessing Record 64 | city id 779261 , kjollefjord\n",
      "Proccessing Record 65 | city id 935616 , le port\n",
      "Proccessing Record 66 | city id 5364271 , laguna\n",
      "'ust-kamchatsk not found skipping'\n",
      "Proccessing Record 67 | city id 1214488 , meulaboh\n",
      "Proccessing Record 68 | city id 1526041 , atasu\n",
      "Proccessing Record 69 | city id 3652764 , puerto ayora\n",
      "Proccessing Record 70 | city id 5106841 , albany\n",
      "Proccessing Record 71 | city id 986846 , kroonstad\n",
      "Proccessing Record 72 | city id 2136825 , isangel\n",
      "Proccessing Record 73 | city id 2264923 , peniche\n",
      "Proccessing Record 74 | city id 2110227 , butaritari\n",
      "Proccessing Record 75 | city id 3448903 , sao joao da barra\n",
      "Proccessing Record 76 | city id 1862505 , hirara\n",
      "Proccessing Record 77 | city id 374739 , gogrial\n",
      "Proccessing Record 78 | city id 5855927 , hilo\n",
      "Proccessing Record 79 | city id 6355222 , yulara\n",
      "Proccessing Record 80 | city id 256155 , palaikastron\n",
      "'saleaula not found skipping'\n",
      "Proccessing Record 81 | city id 731675 , elin pelin\n",
      "Proccessing Record 82 | city id 1337613 , kulhudhuffushi\n",
      "Proccessing Record 83 | city id 1650434 , bambanglipuro\n",
      "Proccessing Record 84 | city id 1275665 , bikaner\n",
      "'taolanaro not found skipping'\n",
      "Proccessing Record 85 | city id 2065176 , murray bridge\n",
      "Proccessing Record 86 | city id 1958535 , maranding\n",
      "'nizhneyansk not found skipping'\n",
      "Proccessing Record 87 | city id 2015306 , tiksi\n",
      "Proccessing Record 88 | city id 5044290 , saint anthony\n",
      "Proccessing Record 89 | city id 3571913 , marsh harbour\n",
      "Proccessing Record 90 | city id 1788046 , xuchang\n",
      "'alotau not found skipping'\n",
      "Proccessing Record 91 | city id 1819729 , victoria\n",
      "'illoqqortoormiut not found skipping'\n",
      "Proccessing Record 92 | city id 5983720 , iqaluit\n",
      "Proccessing Record 93 | city id 4021858 , guerrero negro\n",
      "Proccessing Record 94 | city id 2180815 , tuatapere\n",
      "Proccessing Record 95 | city id 1159362 , torbat-e jam\n",
      "Proccessing Record 96 | city id 1213855 , sibolga\n",
      "Proccessing Record 97 | city id 1015776 , bredasdorp\n",
      "Proccessing Record 98 | city id 3402648 , carutapera\n",
      "Proccessing Record 99 | city id 100926 , umm lajj\n",
      "Proccessing Record 100 | city id 2618795 , klaksvik\n",
      "Proccessing Record 101 | city id 3428068 , san vicente\n",
      "Proccessing Record 102 | city id 5847411 , kahului\n",
      "Proccessing Record 103 | city id 2654970 , brae\n",
      "Proccessing Record 104 | city id 2136150 , luganville\n",
      "Proccessing Record 105 | city id 1626099 , sumenep\n",
      "Proccessing Record 106 | city id 5969025 , haines junction\n",
      "Proccessing Record 107 | city id 3034639 , bastia\n",
      "Proccessing Record 108 | city id 2179756 , waiuku\n",
      "Proccessing Record 109 | city id 2039557 , khasan\n",
      "Proccessing Record 110 | city id 2025630 , chara\n",
      "Proccessing Record 111 | city id 2037485 , erenhot\n",
      "Proccessing Record 112 | city id 3373652 , oistins\n",
      "Proccessing Record 113 | city id 6165406 , thompson\n",
      "'ambodifototra not found skipping'\n",
      "Proccessing Record 114 | city id 1506268 , gornopravdinsk\n",
      "Proccessing Record 115 | city id 3386213 , touros\n",
      "Proccessing Record 116 | city id 3670218 , san andres\n",
      "Proccessing Record 117 | city id 4036284 , alofi\n",
      "Proccessing Record 118 | city id 1272237 , dumka\n",
      "Proccessing Record 119 | city id 3366880 , hermanus\n",
      "Proccessing Record 120 | city id 4692856 , galveston\n",
      "Proccessing Record 121 | city id 2458334 , douentza\n",
      "Proccessing Record 122 | city id 5122534 , jamestown\n",
      "Proccessing Record 123 | city id 3424607 , tasiilaq\n",
      "Proccessing Record 124 | city id 3026285 , chateaudun\n",
      "Proccessing Record 125 | city id 893485 , chiredzi\n",
      "Proccessing Record 126 | city id 2340451 , gombe\n",
      "'attawapiskat not found skipping'\n",
      "Proccessing Record 127 | city id 1487332 , verkhnyaya inta\n",
      "Proccessing Record 128 | city id 2120047 , ust-omchug\n",
      "'burica not found skipping'\n",
      "Proccessing Record 129 | city id 64814 , bandarbeyla\n",
      "Proccessing Record 130 | city id 1651810 , airai\n",
      "Proccessing Record 131 | city id 3466980 , caravelas\n",
      "Proccessing Record 132 | city id 986717 , kruisfontein\n",
      "Proccessing Record 133 | city id 6096551 , pangnirtung\n",
      "Proccessing Record 134 | city id 3893894 , concepcion\n",
      "Proccessing Record 135 | city id 933995 , souillac\n",
      "Proccessing Record 136 | city id 2229798 , kousseri\n",
      "Proccessing Record 137 | city id 634093 , tornio\n",
      "Proccessing Record 138 | city id 2395915 , abomey\n",
      "Proccessing Record 139 | city id 1264976 , leh\n",
      "Proccessing Record 140 | city id 779554 , honningsvag\n",
      "Proccessing Record 141 | city id 3430863 , mar del plata\n",
      "Proccessing Record 142 | city id 3831208 , qaanaaq\n",
      "Proccessing Record 143 | city id 6078372 , moose factory\n",
      "Proccessing Record 144 | city id 2092164 , lorengau\n",
      "Proccessing Record 145 | city id 3883457 , lebu\n",
      "Proccessing Record 146 | city id 3625710 , upata\n",
      "Proccessing Record 147 | city id 3792382 , cartagena del chaira\n",
      "Proccessing Record 148 | city id 462522 , zimovniki\n",
      "Proccessing Record 149 | city id 1505579 , inta\n",
      "Proccessing Record 150 | city id 3412093 , vestmannaeyjar\n"
     ]
    },
    {
     "name": "stdout",
     "output_type": "stream",
     "text": [
      "Proccessing Record 151 | city id 921772 , moroni\n",
      "Proccessing Record 152 | city id 5067114 , douglas\n",
      "Proccessing Record 153 | city id 7117100 , vila\n",
      "'marcona not found skipping'\n",
      "'chagda not found skipping'\n",
      "Proccessing Record 154 | city id 3401845 , conceicao do araguaia\n",
      "Proccessing Record 155 | city id 4160812 , key west\n",
      "Proccessing Record 156 | city id 4393451 , kennett\n",
      "Proccessing Record 157 | city id 3374083 , bathsheba\n",
      "Proccessing Record 158 | city id 2111884 , miyako\n",
      "Proccessing Record 159 | city id 2171845 , cessnock\n",
      "Proccessing Record 160 | city id 2065594 , mount isa\n",
      "Proccessing Record 161 | city id 5915359 , cap-chat\n",
      "Proccessing Record 162 | city id 2629833 , husavik\n",
      "Proccessing Record 163 | city id 1513491 , komsomolskiy\n",
      "Proccessing Record 164 | city id 1254046 , tura\n",
      "Proccessing Record 165 | city id 3416888 , grindavik\n",
      "Proccessing Record 166 | city id 1644932 , ende\n",
      "Proccessing Record 167 | city id 1644605 , galesong\n",
      "Proccessing Record 168 | city id 5919850 , chapais\n",
      "Proccessing Record 169 | city id 3020686 , dunkirk\n",
      "Proccessing Record 170 | city id 2179825 , waitati\n",
      "Proccessing Record 171 | city id 508743 , plyussa\n",
      "Proccessing Record 172 | city id 4031574 , provideniya\n",
      "'ardistan not found skipping'\n",
      "Proccessing Record 173 | city id 69500 , zabid\n",
      "Proccessing Record 174 | city id 342641 , bati\n",
      "Proccessing Record 175 | city id 4033557 , tautira\n",
      "Proccessing Record 176 | city id 1216787 , kitob\n",
      "Proccessing Record 177 | city id 4726521 , san patricio\n",
      "Proccessing Record 178 | city id 1256431 , shorapur\n",
      "Proccessing Record 179 | city id 3832899 , viedma\n",
      "Proccessing Record 180 | city id 965401 , phuthaditjhaba\n",
      "Proccessing Record 181 | city id 2022572 , khatanga\n",
      "'cazaje not found skipping'\n",
      "Proccessing Record 182 | city id 524100 , muyezerskiy\n",
      "'gurskoye not found skipping'\n",
      "Proccessing Record 183 | city id 6089245 , norman wells\n",
      "Proccessing Record 184 | city id 2319078 , wawa\n",
      "Proccessing Record 185 | city id 1490085 , tarko-sale\n",
      "Proccessing Record 186 | city id 2032201 , bulgan\n",
      "Proccessing Record 187 | city id 4149959 , cape canaveral\n",
      "Proccessing Record 188 | city id 2171099 , codrington\n",
      "'sentyabrskiy not found skipping'\n",
      "Proccessing Record 189 | city id 103630 , najran\n",
      "Proccessing Record 190 | city id 3694112 , paita\n",
      "Proccessing Record 191 | city id 6620339 , karratha\n",
      "Proccessing Record 192 | city id 2017155 , saskylakh\n",
      "Proccessing Record 193 | city id 3382160 , cayenne\n",
      "Proccessing Record 194 | city id 2381334 , atar\n",
      "'vaitupu not found skipping'\n",
      "Proccessing Record 195 | city id 3932145 , pisco\n",
      "Proccessing Record 196 | city id 3984997 , san quintin\n",
      "Proccessing Record 197 | city id 2128975 , nemuro\n",
      "Proccessing Record 198 | city id 2313002 , matadi\n",
      "Proccessing Record 199 | city id 3187419 , voljevac\n",
      "Proccessing Record 200 | city id 5314245 , show low\n",
      "Proccessing Record 201 | city id 2173125 , burnie\n",
      "Proccessing Record 202 | city id 1215502 , banda aceh\n",
      "Proccessing Record 203 | city id 2167426 , emerald\n",
      "'phan rang not found skipping'\n",
      "Proccessing Record 204 | city id 546105 , nikolskoye\n",
      "Proccessing Record 205 | city id 5851349 , nanakuli\n",
      "Proccessing Record 206 | city id 1715015 , dicabisagan\n",
      "Proccessing Record 207 | city id 2155415 , new norfolk\n",
      "'kegayli not found skipping'\n",
      "Proccessing Record 208 | city id 5962442 , goderich\n",
      "Proccessing Record 209 | city id 3421193 , paamiut\n",
      "Proccessing Record 210 | city id 1629974 , rantepao\n",
      "Proccessing Record 211 | city id 57000 , hobyo\n",
      "'samusu not found skipping'\n",
      "Proccessing Record 212 | city id 2123979 , kurilsk\n",
      "Proccessing Record 213 | city id 609924 , emba\n",
      "Proccessing Record 214 | city id 5282297 , bethel\n",
      "Proccessing Record 215 | city id 1648451 , bojonegoro\n",
      "'belushya guba not found skipping'\n",
      "Proccessing Record 216 | city id 320533 , bucak\n",
      "Proccessing Record 217 | city id 5850554 , makakilo city\n",
      "Proccessing Record 218 | city id 1510377 , belyy yar\n",
      "'tasbuget not found skipping'\n",
      "'amderma not found skipping'\n",
      "Proccessing Record 219 | city id 3471451 , arraial do cabo\n",
      "Proccessing Record 220 | city id 5533366 , west odessa\n",
      "Proccessing Record 221 | city id 1283285 , jumla\n",
      "Proccessing Record 222 | city id 2125711 , esso\n",
      "Proccessing Record 223 | city id 3440777 , rocha\n",
      "Proccessing Record 224 | city id 5866583 , kodiak\n",
      "Proccessing Record 225 | city id 5859699 , college\n",
      "Proccessing Record 226 | city id 912628 , kasempa\n",
      "Proccessing Record 227 | city id 1045114 , inhambane\n",
      "Proccessing Record 228 | city id 5051640 , waconia\n",
      "Proccessing Record 229 | city id 2427336 , moussoro\n",
      "Proccessing Record 230 | city id 3445026 , vila velha\n",
      "Proccessing Record 231 | city id 5924351 , clyde river\n",
      "Proccessing Record 232 | city id 3939168 , huarmey\n",
      "Proccessing Record 233 | city id 1106677 , bambous virieux\n",
      "Proccessing Record 234 | city id 5557293 , sitka\n",
      "Proccessing Record 235 | city id 4735966 , temple\n",
      "Proccessing Record 236 | city id 3577154 , oranjestad\n",
      "Proccessing Record 237 | city id 6620467 , saint-jean-port-joli\n",
      "Proccessing Record 238 | city id 2071860 , esperance\n",
      "Proccessing Record 239 | city id 2012593 , zeya\n",
      "Proccessing Record 240 | city id 1267390 , kavaratti\n",
      "Proccessing Record 241 | city id 2062276 , roebourne\n",
      "Proccessing Record 242 | city id 1508894 , borovoy\n",
      "Proccessing Record 243 | city id 1855540 , naze\n",
      "Proccessing Record 244 | city id 5848280 , kapaa\n",
      "Proccessing Record 245 | city id 3038333 , ajaccio\n",
      "Proccessing Record 246 | city id 3423146 , ilulissat\n",
      "Proccessing Record 247 | city id 3899695 , ancud\n",
      "Proccessing Record 248 | city id 2082539 , merauke\n",
      "Proccessing Record 249 | city id 1006984 , east london\n",
      "Proccessing Record 250 | city id 5546220 , saint george\n",
      "Proccessing Record 251 | city id 2449893 , tessalit\n",
      "Proccessing Record 252 | city id 1695180 , simbahan\n",
      "Proccessing Record 253 | city id 3374333 , praya\n",
      "'bargal not found skipping'\n",
      "Proccessing Record 254 | city id 5856516 , ahuimanu\n",
      "Proccessing Record 255 | city id 3855075 , general pico\n",
      "Proccessing Record 256 | city id 3893726 , constitucion\n",
      "Proccessing Record 257 | city id 1529195 , shihezi\n",
      "Proccessing Record 258 | city id 3353811 , otjiwarongo\n",
      "Proccessing Record 259 | city id 1235846 , matara\n",
      "Proccessing Record 260 | city id 3931470 , puerto maldonado\n",
      "Proccessing Record 261 | city id 1224061 , wattegama\n",
      "Proccessing Record 262 | city id 1258658 , ramjibanpur\n",
      "Proccessing Record 263 | city id 2147381 , taree\n",
      "Proccessing Record 264 | city id 2013918 , ust-maya\n",
      "Proccessing Record 265 | city id 5287565 , bullhead city\n",
      "Proccessing Record 266 | city id 6533368 , moranbah\n",
      "Proccessing Record 267 | city id 964420 , port elizabeth\n",
      "Proccessing Record 268 | city id 630166 , berezovka\n",
      "Proccessing Record 269 | city id 2738381 , lata\n",
      "Proccessing Record 270 | city id 1135690 , isa khel\n",
      "'goycay not found skipping'\n",
      "Proccessing Record 271 | city id 336496 , gimbi\n",
      "'sumbawa not found skipping'\n",
      "Proccessing Record 272 | city id 5563839 , fortuna\n",
      "Proccessing Record 273 | city id 2514651 , los llanos de aridane\n",
      "Proccessing Record 274 | city id 609919 , kuryk\n",
      "Proccessing Record 275 | city id 3837213 , san juan\n",
      "Proccessing Record 276 | city id 1735106 , georgetown\n",
      "Proccessing Record 277 | city id 2123814 , leningradskiy\n",
      "'mys shmidta not found skipping'\n",
      "Proccessing Record 278 | city id 2120048 , ust-nera\n",
      "Proccessing Record 279 | city id 4319518 , chalmette\n",
      "Proccessing Record 280 | city id 2126710 , beringovskiy\n",
      "Proccessing Record 281 | city id 5888001 , atikokan\n",
      "Proccessing Record 282 | city id 286621 , salalah\n",
      "Proccessing Record 283 | city id 5917430 , caronport\n",
      "Proccessing Record 284 | city id 2015913 , suntar\n",
      "Proccessing Record 285 | city id 610298 , beyneu\n",
      "Proccessing Record 286 | city id 3924679 , vilhena\n",
      "Proccessing Record 287 | city id 3347019 , namibe\n",
      "Proccessing Record 288 | city id 2189343 , kaeo\n",
      "Proccessing Record 289 | city id 2019935 , mnogovershinnyy\n",
      "Proccessing Record 290 | city id 2018069 , peleduy\n",
      "Proccessing Record 291 | city id 3424901 , aasiaat\n",
      "Proccessing Record 292 | city id 524243 , murygino\n",
      "Proccessing Record 293 | city id 2126199 , cherskiy\n",
      "'armacao dos buzios not found skipping'\n",
      "Proccessing Record 294 | city id 1242110 , kalmunai\n",
      "Proccessing Record 295 | city id 2094342 , kavieng\n",
      "Proccessing Record 296 | city id 3356832 , henties bay\n",
      "Proccessing Record 297 | city id 3461425 , ilhabela\n",
      "Proccessing Record 298 | city id 107304 , buraydah\n",
      "Proccessing Record 299 | city id 3985710 , cabo san lucas\n"
     ]
    },
    {
     "name": "stdout",
     "output_type": "stream",
     "text": [
      "Proccessing Record 300 | city id 2090021 , namatanai\n",
      "Proccessing Record 301 | city id 1490918 , staryy nadym\n",
      "Proccessing Record 302 | city id 4328010 , houma\n",
      "Proccessing Record 303 | city id 4301317 , morehead\n",
      "Proccessing Record 304 | city id 3664243 , feijo\n",
      "Proccessing Record 305 | city id 3470709 , barra do garcas\n",
      "Proccessing Record 306 | city id 1520316 , oskemen\n",
      "Proccessing Record 307 | city id 1261853 , narasannapeta\n",
      "Proccessing Record 308 | city id 3492908 , santo domingo\n",
      "Proccessing Record 309 | city id 3418910 , upernavik\n",
      "Proccessing Record 310 | city id 10722858 , svetlogorsk\n",
      "Proccessing Record 311 | city id 3137469 , sorland\n",
      "Proccessing Record 312 | city id 1510689 , baykit\n",
      "Proccessing Record 313 | city id 3161456 , bjerkvik\n",
      "'nguiu not found skipping'\n",
      "Proccessing Record 314 | city id 4031637 , lavrentiya\n",
      "Proccessing Record 315 | city id 1252840 , wokha\n",
      "'halalo not found skipping'\n",
      "Proccessing Record 316 | city id 529368 , marfino\n",
      "Proccessing Record 317 | city id 3092472 , marienburg\n",
      "Proccessing Record 318 | city id 2399001 , mayumba\n",
      "Proccessing Record 319 | city id 3356213 , khorixas\n",
      "Proccessing Record 320 | city id 3581194 , san ignacio\n",
      "Proccessing Record 321 | city id 3474574 , palmas\n",
      "Proccessing Record 322 | city id 1649150 , bengkulu\n",
      "Proccessing Record 323 | city id 3359638 , walvis bay\n",
      "Proccessing Record 324 | city id 2446796 , bilma\n",
      "Proccessing Record 325 | city id 3628473 , san cristobal\n",
      "Proccessing Record 326 | city id 1486321 , yar-sale\n",
      "Proccessing Record 327 | city id 172515 , abu samrah\n",
      "Proccessing Record 328 | city id 6104841 , pincher creek\n",
      "Proccessing Record 329 | city id 2236967 , soyo\n",
      "Proccessing Record 330 | city id 110690 , faya\n",
      "Proccessing Record 331 | city id 2021618 , krasnokamensk\n",
      "Proccessing Record 332 | city id 2392087 , porto novo\n",
      "Proccessing Record 333 | city id 2012780 , zabaykalsk\n",
      "Proccessing Record 334 | city id 4297983 , lexington\n",
      "Proccessing Record 335 | city id 2121025 , srednekolymsk\n",
      "Proccessing Record 336 | city id 2630299 , hofn\n",
      "Proccessing Record 337 | city id 3403309 , cantanhede\n",
      "Proccessing Record 338 | city id 3625428 , venezuela\n",
      "Proccessing Record 339 | city id 2186338 , murupara\n",
      "Proccessing Record 340 | city id 2156643 , mount gambier\n",
      "Proccessing Record 341 | city id 3691954 , sechura\n",
      "Proccessing Record 342 | city id 2208248 , kaitangata\n",
      "Proccessing Record 343 | city id 3421765 , nanortalik\n",
      "Proccessing Record 344 | city id 3372472 , vila franca do campo\n",
      "Proccessing Record 345 | city id 223816 , jibuti\n",
      "Proccessing Record 346 | city id 218680 , boende\n",
      "Proccessing Record 347 | city id 53157 , qandala\n",
      "Proccessing Record 348 | city id 3465769 , conceicao da barra\n",
      "Proccessing Record 349 | city id 1636308 , manokwari\n",
      "Proccessing Record 350 | city id 2178753 , kirakira\n",
      "Proccessing Record 351 | city id 3894426 , coihaique\n",
      "Proccessing Record 352 | city id 778707 , mehamn\n",
      "Proccessing Record 353 | city id 1501429 , kuminskiy\n",
      "Proccessing Record 354 | city id 2112309 , katsuura\n",
      "Proccessing Record 355 | city id 2643044 , margate\n",
      "Proccessing Record 356 | city id 3839982 , punta alta\n",
      "Proccessing Record 357 | city id 2377457 , nouadhibou\n",
      "Proccessing Record 358 | city id 3996426 , matamoros\n",
      "Proccessing Record 359 | city id 2447513 , arlit\n",
      "Proccessing Record 360 | city id 5391959 , san francisco\n",
      "Proccessing Record 361 | city id 2012530 , zhigansk\n",
      "Proccessing Record 362 | city id 1513087 , nurota\n",
      "Proccessing Record 363 | city id 3839307 , rawson\n",
      "Proccessing Record 364 | city id 2161376 , kingaroy\n",
      "Proccessing Record 365 | city id 2194098 , ahipara\n",
      "Proccessing Record 366 | city id 2084442 , vanimo\n",
      "Proccessing Record 367 | city id 4231997 , avera\n",
      "'ayios matthaios not found skipping'\n",
      "Proccessing Record 368 | city id 2121385 , severo-kurilsk\n",
      "Proccessing Record 369 | city id 2034600 , taikang\n",
      "'mahaicony not found skipping'\n",
      "Proccessing Record 370 | city id 1696188 , palauig\n",
      "Proccessing Record 371 | city id 6111867 , port hawkesbury\n",
      "Proccessing Record 372 | city id 3393692 , itarema\n",
      "Proccessing Record 373 | city id 1816670 , pekin\n",
      "Proccessing Record 374 | city id 1853174 , sakaiminato\n",
      "Proccessing Record 375 | city id 3622716 , nicoya\n",
      "Proccessing Record 376 | city id 3928128 , tacna\n",
      "Proccessing Record 377 | city id 4012593 , creel\n",
      "Proccessing Record 378 | city id 3691582 , talara\n",
      "Proccessing Record 379 | city id 489164 , staraya kulatka\n",
      "'lolua not found skipping'\n",
      "Proccessing Record 380 | city id 161974 , gazanjyk\n",
      "Proccessing Record 381 | city id 5882953 , aklavik\n",
      "Proccessing Record 382 | city id 2345521 , damaturu\n",
      "Proccessing Record 383 | city id 3461370 , imbituba\n",
      "Proccessing Record 384 | city id 4031742 , egvekinot\n",
      "Proccessing Record 385 | city id 4013679 , coahuayana\n",
      "Proccessing Record 386 | city id 934322 , mahebourg\n",
      "Proccessing Record 387 | city id 5126209 , mastic beach\n",
      "Proccessing Record 388 | city id 3838233 , salta\n",
      "Proccessing Record 389 | city id 3424941 , miquelon\n",
      "Proccessing Record 390 | city id 3580279 , gouyave\n",
      "Proccessing Record 391 | city id 5380437 , pacific grove\n",
      "Proccessing Record 392 | city id 2112802 , hasaki\n",
      "Proccessing Record 393 | city id 1490256 , talnakh\n",
      "Proccessing Record 394 | city id 2108857 , gizo\n",
      "Proccessing Record 395 | city id 1529660 , aksu\n",
      "Proccessing Record 396 | city id 485660 , svetlyy\n",
      "'umzimvubu not found skipping'\n",
      "Proccessing Record 397 | city id 2523666 , quartucciu\n",
      "Proccessing Record 398 | city id 1808931 , hangu\n",
      "Proccessing Record 399 | city id 2457161 , gao\n",
      "Proccessing Record 400 | city id 2168305 , dubbo\n",
      "Proccessing Record 401 | city id 3459785 , joao pinheiro\n",
      "Proccessing Record 402 | city id 1259184 , puri\n",
      "Proccessing Record 403 | city id 4513583 , hamilton\n",
      "Proccessing Record 404 | city id 5367788 , lompoc\n",
      "Proccessing Record 405 | city id 1164896 , sibi\n",
      "Proccessing Record 406 | city id 2319133 , warri\n",
      "Proccessing Record 407 | city id 2154826 , wonthaggi\n",
      "Proccessing Record 408 | city id 2294915 , takoradi\n",
      "Proccessing Record 409 | city id 473943 , vesyegonsk\n",
      "Proccessing Record 410 | city id 3141667 , roald\n",
      "Proccessing Record 411 | city id 5733351 , jackson\n",
      "Proccessing Record 412 | city id 1701054 , marawi\n",
      "Proccessing Record 413 | city id 1636806 , majene\n",
      "Proccessing Record 414 | city id 1106643 , quatre cocos\n",
      "Proccessing Record 415 | city id 686090 , asau\n",
      "Proccessing Record 416 | city id 3672077 , planadas\n",
      "Proccessing Record 417 | city id 575413 , bokovskaya\n",
      "Proccessing Record 418 | city id 1214026 , sabang\n",
      "Proccessing Record 419 | city id 5955902 , fort nelson\n",
      "Proccessing Record 420 | city id 1835848 , seoul\n",
      "Proccessing Record 421 | city id 3346015 , sumbe\n",
      "Proccessing Record 422 | city id 7671223 , kloulklubed\n",
      "Proccessing Record 423 | city id 1730272 , araceli\n",
      "Proccessing Record 424 | city id 569742 , chaykovskiy\n",
      "Proccessing Record 425 | city id 1789289 , dayong\n",
      "Proccessing Record 426 | city id 2646088 , inverness\n",
      "'grand river south east not found skipping'\n",
      "Proccessing Record 427 | city id 1735076 , butterworth\n",
      "Proccessing Record 428 | city id 934479 , grand gaube\n",
      "Proccessing Record 429 | city id 1852357 , shimoda\n",
      "Proccessing Record 430 | city id 615460 , pitsunda\n",
      "Proccessing Record 431 | city id 2281120 , tabou\n",
      "'meyungs not found skipping'\n",
      "Proccessing Record 432 | city id 1280849 , kashi\n",
      "Proccessing Record 433 | city id 2512186 , puerto del rosario\n",
      "Proccessing Record 434 | city id 3421719 , narsaq\n",
      "Proccessing Record 435 | city id 3893629 , coquimbo\n",
      "'tavai not found skipping'\n",
      "Proccessing Record 436 | city id 962367 , richards bay\n",
      "Proccessing Record 437 | city id 549748 , kholmogory\n",
      "Proccessing Record 438 | city id 2186111 , ngunguru\n",
      "Proccessing Record 439 | city id 3354071 , oranjemund\n",
      "Proccessing Record 440 | city id 415189 , aden\n",
      "Proccessing Record 441 | city id 1795632 , shenjiamen\n",
      "Proccessing Record 442 | city id 2121373 , seymchan\n",
      "Proccessing Record 443 | city id 933366 , maun\n",
      "Proccessing Record 444 | city id 745664 , hendek\n",
      "Proccessing Record 445 | city id 542452 , krasnoarmeyskiy\n",
      "Proccessing Record 446 | city id 58933 , garowe\n",
      "Proccessing Record 447 | city id 1687894 , santa rosa\n",
      "Proccessing Record 448 | city id 2303611 , axim\n",
      "'utiroa not found skipping'\n",
      "Proccessing Record 449 | city id 298846 , tunceli\n",
      "'dipkarpaz not found skipping'\n",
      "Proccessing Record 450 | city id 924572 , nsanje\n"
     ]
    },
    {
     "name": "stdout",
     "output_type": "stream",
     "text": [
      "Proccessing Record 451 | city id 1488903 , turukhansk\n",
      "'malwan not found skipping'\n",
      "Proccessing Record 452 | city id 2122293 , ozernovskiy\n",
      "'skagastrond not found skipping'\n",
      "Proccessing Record 453 | city id 3381538 , grand-santi\n",
      "Proccessing Record 454 | city id 117574 , sanandaj\n",
      "Proccessing Record 455 | city id 1056899 , sambava\n",
      "Proccessing Record 456 | city id 3354077 , opuwo\n",
      "Proccessing Record 457 | city id 2729907 , longyearbyen\n",
      "Proccessing Record 458 | city id 523583 , nagorsk\n",
      "Proccessing Record 459 | city id 325336 , adilcevaz\n",
      "Proccessing Record 460 | city id 3385899 , tutoia\n",
      "Proccessing Record 461 | city id 4362001 , mayo\n",
      "Proccessing Record 462 | city id 1529484 , hami\n",
      "Proccessing Record 463 | city id 1623197 , tual\n",
      "Proccessing Record 464 | city id 1185095 , teknaf\n",
      "Proccessing Record 465 | city id 3452712 , porto murtinho\n",
      "Proccessing Record 466 | city id 293842 , gat\n",
      "Proccessing Record 467 | city id 2022773 , khandyga\n",
      "Proccessing Record 468 | city id 2013279 , vostok\n",
      "Proccessing Record 469 | city id 4891382 , evanston\n",
      "Proccessing Record 470 | city id 2409914 , bonthe\n",
      "Proccessing Record 471 | city id 5422191 , fountain\n",
      "Proccessing Record 472 | city id 3353934 , otavi\n",
      "Proccessing Record 473 | city id 2953413 , bad langensalza\n",
      "Proccessing Record 474 | city id 2177671 , armidale\n",
      "Proccessing Record 475 | city id 4552215 , stillwater\n",
      "Proccessing Record 476 | city id 3939761 , hualmay\n",
      "Proccessing Record 477 | city id 525138 , morshansk\n",
      "Proccessing Record 478 | city id 1128239 , rudbar\n",
      "Proccessing Record 479 | city id 3422683 , kangaatsiaq\n",
      "Proccessing Record 480 | city id 2035707 , mujiayingzi\n",
      "'ip not found skipping'\n",
      "Proccessing Record 481 | city id 3577933 , chateaubelair\n",
      "Proccessing Record 482 | city id 2181625 , te anau\n",
      "Proccessing Record 483 | city id 3421982 , maniitsoq\n",
      "Proccessing Record 484 | city id 2013921 , ust-kuyga\n",
      "Proccessing Record 485 | city id 1529376 , korla\n",
      "Proccessing Record 486 | city id 4946620 , palmer\n",
      "Proccessing Record 487 | city id 1516048 , hovd\n",
      "Proccessing Record 488 | city id 3838859 , rio gallegos\n",
      "Proccessing Record 489 | city id 2270385 , camacha\n",
      "Proccessing Record 490 | city id 2759794 , amsterdam\n",
      "Proccessing Record 491 | city id 2032614 , baruun-urt\n",
      "Proccessing Record 492 | city id 1688696 , san policarpo\n",
      "Proccessing Record 493 | city id 933077 , shakawe\n",
      "Proccessing Record 494 | city id 3448403 , sao pedro\n",
      "'toliary not found skipping'\n",
      "'palabuhanratu not found skipping'\n",
      "'karaul not found skipping'\n",
      "Proccessing Record 495 | city id 1631637 , pemangkat\n",
      "Proccessing Record 496 | city id 227812 , njeru\n",
      "Proccessing Record 497 | city id 554535 , kaduy\n",
      "Proccessing Record 498 | city id 2027002 , bayangol\n",
      "Proccessing Record 499 | city id 1052944 , angoche\n",
      "Proccessing Record 500 | city id 119374 , qeshm\n",
      "Proccessing Record 501 | city id 3374210 , sao filipe\n",
      "Proccessing Record 502 | city id 72181 , marzuq\n",
      "Proccessing Record 503 | city id 878054 , masuguru\n",
      "Proccessing Record 504 | city id 5905393 , bonavista\n",
      "Proccessing Record 505 | city id 2020313 , mama\n",
      "Proccessing Record 506 | city id 2119283 , zyryanka\n",
      "Proccessing Record 507 | city id 1161724 , chabahar\n",
      "Proccessing Record 508 | city id 2031964 , darhan\n",
      "Proccessing Record 509 | city id 3520994 , puerto escondido\n",
      "Proccessing Record 510 | city id 3521972 , panaba\n",
      "'tumannyy not found skipping'\n",
      "Proccessing Record 511 | city id 80509 , bardiyah\n",
      "Proccessing Record 512 | city id 2374583 , bubaque\n",
      "Proccessing Record 513 | city id 1861280 , itoman\n",
      "Proccessing Record 514 | city id 3465329 , coruripe\n",
      "Proccessing Record 515 | city id 2122104 , petropavlovsk-kamchatskiy\n",
      "Proccessing Record 516 | city id 2027296 , aykhal\n",
      "Proccessing Record 517 | city id 4922388 , kokomo\n",
      "Proccessing Record 518 | city id 1488167 , ust-koksa\n",
      "Proccessing Record 519 | city id 3420846 , qaqortoq\n",
      "Proccessing Record 520 | city id 1067565 , beloha\n",
      "Proccessing Record 521 | city id 1737486 , bintulu\n",
      "Proccessing Record 522 | city id 2097418 , finschhafen\n",
      "Proccessing Record 523 | city id 3662927 , pauini\n",
      "Proccessing Record 524 | city id 2063523 , perth\n",
      "Proccessing Record 525 | city id 423549 , rumonge\n",
      "Proccessing Record 526 | city id 6098642 , parksville\n",
      "Proccessing Record 527 | city id 3407357 , araguaina\n",
      "'khonuu not found skipping'\n",
      "Proccessing Record 528 | city id 3013619 , hazebrouck\n",
      "Proccessing Record 529 | city id 2402689 , zimmi\n",
      "Proccessing Record 530 | city id 2174933 , bongaree\n",
      "Proccessing Record 531 | city id 1633442 , paciran\n",
      "Proccessing Record 532 | city id 1504382 , kargasok\n",
      "Proccessing Record 533 | city id 290340 , manama\n",
      "Proccessing Record 534 | city id 3129371 , arroyo\n",
      "Proccessing Record 535 | city id 2027806 , amazar\n",
      "Proccessing Record 536 | city id 1283581 , kalaiya\n",
      "Proccessing Record 537 | city id 575521 , bogorodskoye\n",
      "'babanusah not found skipping'\n",
      "Proccessing Record 538 | city id 1503856 , khabary\n",
      "Proccessing Record 539 | city id 525426 , sobolevo\n",
      "Proccessing Record 540 | city id 526083 , mitrofanovka\n",
      "Proccessing Record 541 | city id 3461289 , indiaroba\n",
      "Proccessing Record 542 | city id 1714733 , dingle\n",
      "Proccessing Record 543 | city id 8079926 , labuhan\n",
      "Proccessing Record 544 | city id 3013633 , havre\n",
      "Proccessing Record 545 | city id 2240449 , luanda\n",
      "Proccessing Record 546 | city id 1262062 , naliya\n",
      "Proccessing Record 547 | city id 1630789 , pontianak\n",
      "Proccessing Record 548 | city id 2063056 , port augusta\n",
      "Proccessing Record 549 | city id 3652758 , puerto baquerizo moreno\n",
      "Proccessing Record 550 | city id 4406282 , rolla\n",
      "Proccessing Record 551 | city id 935214 , saint-pierre\n",
      "Proccessing Record 552 | city id 1185239 , mathbaria\n",
      "Proccessing Record 553 | city id 503581 , pyaozerskiy\n",
      "Proccessing Record 554 | city id 3868626 , valparaiso\n",
      "Proccessing Record 555 | city id 5861897 , fairbanks\n",
      "Proccessing Record 556 | city id 265191 , amfiklia\n",
      "Proccessing Record 557 | city id 498295 , savinka\n",
      "Proccessing Record 558 | city id 330120 , nedjo\n",
      "Proccessing Record 559 | city id 3855065 , general roca\n",
      "Proccessing Record 560 | city id 3175096 , lasa\n",
      "Proccessing Record 561 | city id 1259552 , pipri\n",
      "Proccessing Record 562 | city id 3995236 , mulege\n",
      "Proccessing Record 563 | city id 3680539 , cuaspud\n",
      "Proccessing Record 564 | city id 3191648 , zlobin\n",
      "Proccessing Record 565 | city id 3662761 , porto walter\n",
      "Proccessing Record 566 | city id 3843123 , neuquen\n",
      "Proccessing Record 567 | city id 2460489 , bandiagara\n",
      "Proccessing Record 568 | city id 2094144 , kerema\n",
      "Proccessing Record 569 | city id 3514633 , vista hermosa\n",
      "Proccessing Record 570 | city id 1514829 , altyn-topkan\n",
      "Proccessing Record 571 | city id 1816751 , beidao\n",
      "Proccessing Record 572 | city id 1003953 , fort beaufort\n",
      "Proccessing Record 573 | city id 5686121 , whitefish\n",
      "Proccessing Record 574 | city id 3451138 , rio grande\n",
      "Proccessing Record 575 | city id 1501710 , krutaya gorka\n",
      "Proccessing Record 576 | city id 3407762 , amapa\n",
      "Proccessing Record 577 | city id 990930 , kimberley\n",
      "Proccessing Record 578 | city id 1863997 , fukue\n",
      "'kerzhenets not found skipping'\n"
     ]
    }
   ],
   "source": [
    "cityid =[]\n",
    "cloudiness = []\n",
    "date = []\n",
    "humidity = []\n",
    "foundcities = []\n",
    "lat = []\n",
    "lon =[]\n",
    "temp_max = []\n",
    "country = []\n",
    "windspeed =[]\n",
    "\n",
    "c = 0\n",
    "for city in cities:\n",
    "    try: \n",
    "        response = requests.get(query_url + city).json()\n",
    "        lat.append(response['coord']['lat'])\n",
    "        lon.append(response['coord']['lon'])\n",
    "        temp_max.append(response['main']['temp_max'])\n",
    "        cityid.append(response['id'])\n",
    "        cloudiness.append(response['clouds']['all'])\n",
    "        date.append(response['dt'])\n",
    "        humidity.append(response['main']['humidity'])\n",
    "        country.append(response['sys']['country'])\n",
    "        windspeed.append(response['wind']['speed'])\n",
    "        foundcities.append(city)\n",
    "        ids = response['id']\n",
    "        c = c+1\n",
    "        print(f'Proccessing Record {c} | city id {ids} , {city}')\n",
    "    except:\n",
    "        pprint(f\"{city} not found skipping\")\n",
    "        pass\n",
    "# pprint(f\"The latitude information received is: {lat}\")\n",
    "# pprint(f\"The temperature information received is: {temp}\")"
   ]
  },
  {
   "cell_type": "code",
   "execution_count": 5,
   "metadata": {},
   "outputs": [
    {
     "name": "stdout",
     "output_type": "stream",
     "text": [
      "578\n",
      "578\n",
      "578\n",
      "578\n",
      "578\n",
      "578\n",
      "578\n",
      "578\n",
      "578\n",
      "578\n"
     ]
    }
   ],
   "source": [
    "#check if we have the right number of items pulled and are equal\n",
    "print(len(cityid))\n",
    "print(len(cloudiness))\n",
    "print(len(date))\n",
    "print(len(humidity))\n",
    "print(len(foundcities))\n",
    "print(len(lat))\n",
    "print(len(lon))\n",
    "print(len(temp_max))\n",
    "print(len(country))\n",
    "print(len(windspeed))"
   ]
  },
  {
   "cell_type": "code",
   "execution_count": 6,
   "metadata": {},
   "outputs": [
    {
     "data": {
      "text/plain": [
       "{'cod': '404', 'message': 'city not found'}"
      ]
     },
     "execution_count": 6,
     "metadata": {},
     "output_type": "execute_result"
    }
   ],
   "source": [
    "response"
   ]
  },
  {
   "cell_type": "code",
   "execution_count": 7,
   "metadata": {},
   "outputs": [
    {
     "data": {
      "text/html": [
       "<div>\n",
       "<style scoped>\n",
       "    .dataframe tbody tr th:only-of-type {\n",
       "        vertical-align: middle;\n",
       "    }\n",
       "\n",
       "    .dataframe tbody tr th {\n",
       "        vertical-align: top;\n",
       "    }\n",
       "\n",
       "    .dataframe thead th {\n",
       "        text-align: right;\n",
       "    }\n",
       "</style>\n",
       "<table border=\"1\" class=\"dataframe\">\n",
       "  <thead>\n",
       "    <tr style=\"text-align: right;\">\n",
       "      <th></th>\n",
       "      <th>City_ID</th>\n",
       "      <th>City</th>\n",
       "      <th>Country</th>\n",
       "      <th>Date</th>\n",
       "      <th>Lat</th>\n",
       "      <th>Lng</th>\n",
       "      <th>Max Temp</th>\n",
       "      <th>Humidity</th>\n",
       "      <th>Cloudiness</th>\n",
       "      <th>Wind Speed</th>\n",
       "    </tr>\n",
       "  </thead>\n",
       "  <tbody>\n",
       "    <tr>\n",
       "      <th>279</th>\n",
       "      <td>2126710</td>\n",
       "      <td>beringovskiy</td>\n",
       "      <td>RU</td>\n",
       "      <td>1644099910</td>\n",
       "      <td>63.0500</td>\n",
       "      <td>179.3167</td>\n",
       "      <td>-10.55</td>\n",
       "      <td>93</td>\n",
       "      <td>54</td>\n",
       "      <td>13.78</td>\n",
       "    </tr>\n",
       "    <tr>\n",
       "      <th>276</th>\n",
       "      <td>2123814</td>\n",
       "      <td>leningradskiy</td>\n",
       "      <td>RU</td>\n",
       "      <td>1644099830</td>\n",
       "      <td>69.3833</td>\n",
       "      <td>178.4167</td>\n",
       "      <td>-22.02</td>\n",
       "      <td>96</td>\n",
       "      <td>8</td>\n",
       "      <td>3.74</td>\n",
       "    </tr>\n",
       "    <tr>\n",
       "      <th>338</th>\n",
       "      <td>2186338</td>\n",
       "      <td>murupara</td>\n",
       "      <td>NZ</td>\n",
       "      <td>1644100068</td>\n",
       "      <td>-38.4667</td>\n",
       "      <td>176.7000</td>\n",
       "      <td>70.56</td>\n",
       "      <td>100</td>\n",
       "      <td>100</td>\n",
       "      <td>3.29</td>\n",
       "    </tr>\n",
       "    <tr>\n",
       "      <th>107</th>\n",
       "      <td>2179756</td>\n",
       "      <td>waiuku</td>\n",
       "      <td>NZ</td>\n",
       "      <td>1644100007</td>\n",
       "      <td>-37.2500</td>\n",
       "      <td>174.7500</td>\n",
       "      <td>72.66</td>\n",
       "      <td>99</td>\n",
       "      <td>100</td>\n",
       "      <td>8.01</td>\n",
       "    </tr>\n",
       "    <tr>\n",
       "      <th>437</th>\n",
       "      <td>2186111</td>\n",
       "      <td>ngunguru</td>\n",
       "      <td>NZ</td>\n",
       "      <td>1644099881</td>\n",
       "      <td>-35.6167</td>\n",
       "      <td>174.5000</td>\n",
       "      <td>76.15</td>\n",
       "      <td>97</td>\n",
       "      <td>100</td>\n",
       "      <td>12.71</td>\n",
       "    </tr>\n",
       "  </tbody>\n",
       "</table>\n",
       "</div>"
      ],
      "text/plain": [
       "     City_ID           City Country        Date      Lat       Lng  Max Temp  \\\n",
       "279  2126710   beringovskiy      RU  1644099910  63.0500  179.3167    -10.55   \n",
       "276  2123814  leningradskiy      RU  1644099830  69.3833  178.4167    -22.02   \n",
       "338  2186338       murupara      NZ  1644100068 -38.4667  176.7000     70.56   \n",
       "107  2179756         waiuku      NZ  1644100007 -37.2500  174.7500     72.66   \n",
       "437  2186111       ngunguru      NZ  1644099881 -35.6167  174.5000     76.15   \n",
       "\n",
       "     Humidity  Cloudiness  Wind Speed  \n",
       "279        93          54       13.78  \n",
       "276        96           8        3.74  \n",
       "338       100         100        3.29  \n",
       "107        99         100        8.01  \n",
       "437        97         100       12.71  "
      ]
     },
     "execution_count": 7,
     "metadata": {},
     "output_type": "execute_result"
    }
   ],
   "source": [
    "city_dict = {\n",
    "                \"City_ID\": cityid,\n",
    "                \"City\": foundcities,\n",
    "                \"Country\": country,\n",
    "                \"Date\": date,\n",
    "                \"Lat\": lat,\n",
    "                \"Lng\": lon,\n",
    "                \"Max Temp\": temp_max,\n",
    "                \"Humidity\": humidity,\n",
    "                \"Cloudiness\": cloudiness,\n",
    "                \"Wind Speed\": windspeed\n",
    "                }\n",
    "\n",
    "city_data = pd.DataFrame(city_dict)\n",
    "city_data = city_data.dropna() \n",
    "city_data = city_data.sort_values(by ='Lng', ascending = False)\n",
    "len(city_data)\n",
    "\n",
    "city_data.head()\n"
   ]
  },
  {
   "cell_type": "code",
   "execution_count": null,
   "metadata": {},
   "outputs": [],
   "source": []
  },
  {
   "cell_type": "code",
   "execution_count": null,
   "metadata": {
    "scrolled": true
   },
   "outputs": [],
   "source": []
  },
  {
   "cell_type": "code",
   "execution_count": null,
   "metadata": {},
   "outputs": [],
   "source": []
  },
  {
   "cell_type": "code",
   "execution_count": null,
   "metadata": {},
   "outputs": [],
   "source": []
  },
  {
   "cell_type": "markdown",
   "metadata": {},
   "source": [
    "### Convert Raw Data to DataFrame\n",
    "* Export the city data into a .csv.\n",
    "* Display the DataFrame"
   ]
  },
  {
   "cell_type": "code",
   "execution_count": 8,
   "metadata": {},
   "outputs": [],
   "source": [
    "output_path = os.path.join(\"..\",\"output_data\", \"cities.csv\")\n",
    "city_data.to_csv(output_path, index=False, header=True)"
   ]
  },
  {
   "cell_type": "code",
   "execution_count": 9,
   "metadata": {},
   "outputs": [
    {
     "data": {
      "text/html": [
       "<div>\n",
       "<style scoped>\n",
       "    .dataframe tbody tr th:only-of-type {\n",
       "        vertical-align: middle;\n",
       "    }\n",
       "\n",
       "    .dataframe tbody tr th {\n",
       "        vertical-align: top;\n",
       "    }\n",
       "\n",
       "    .dataframe thead th {\n",
       "        text-align: right;\n",
       "    }\n",
       "</style>\n",
       "<table border=\"1\" class=\"dataframe\">\n",
       "  <thead>\n",
       "    <tr style=\"text-align: right;\">\n",
       "      <th></th>\n",
       "      <th>City_ID</th>\n",
       "      <th>City</th>\n",
       "      <th>Country</th>\n",
       "      <th>Date</th>\n",
       "      <th>Lat</th>\n",
       "      <th>Lng</th>\n",
       "      <th>Max Temp</th>\n",
       "      <th>Humidity</th>\n",
       "      <th>Cloudiness</th>\n",
       "      <th>Wind Speed</th>\n",
       "    </tr>\n",
       "  </thead>\n",
       "  <tbody>\n",
       "    <tr>\n",
       "      <th>0</th>\n",
       "      <td>2126710</td>\n",
       "      <td>beringovskiy</td>\n",
       "      <td>RU</td>\n",
       "      <td>1644099910</td>\n",
       "      <td>63.0500</td>\n",
       "      <td>179.3167</td>\n",
       "      <td>-10.55</td>\n",
       "      <td>93</td>\n",
       "      <td>54</td>\n",
       "      <td>13.78</td>\n",
       "    </tr>\n",
       "    <tr>\n",
       "      <th>1</th>\n",
       "      <td>2123814</td>\n",
       "      <td>leningradskiy</td>\n",
       "      <td>RU</td>\n",
       "      <td>1644099830</td>\n",
       "      <td>69.3833</td>\n",
       "      <td>178.4167</td>\n",
       "      <td>-22.02</td>\n",
       "      <td>96</td>\n",
       "      <td>8</td>\n",
       "      <td>3.74</td>\n",
       "    </tr>\n",
       "    <tr>\n",
       "      <th>2</th>\n",
       "      <td>2186338</td>\n",
       "      <td>murupara</td>\n",
       "      <td>NZ</td>\n",
       "      <td>1644100068</td>\n",
       "      <td>-38.4667</td>\n",
       "      <td>176.7000</td>\n",
       "      <td>70.56</td>\n",
       "      <td>100</td>\n",
       "      <td>100</td>\n",
       "      <td>3.29</td>\n",
       "    </tr>\n",
       "    <tr>\n",
       "      <th>3</th>\n",
       "      <td>2179756</td>\n",
       "      <td>waiuku</td>\n",
       "      <td>NZ</td>\n",
       "      <td>1644100007</td>\n",
       "      <td>-37.2500</td>\n",
       "      <td>174.7500</td>\n",
       "      <td>72.66</td>\n",
       "      <td>99</td>\n",
       "      <td>100</td>\n",
       "      <td>8.01</td>\n",
       "    </tr>\n",
       "    <tr>\n",
       "      <th>4</th>\n",
       "      <td>2186111</td>\n",
       "      <td>ngunguru</td>\n",
       "      <td>NZ</td>\n",
       "      <td>1644099881</td>\n",
       "      <td>-35.6167</td>\n",
       "      <td>174.5000</td>\n",
       "      <td>76.15</td>\n",
       "      <td>97</td>\n",
       "      <td>100</td>\n",
       "      <td>12.71</td>\n",
       "    </tr>\n",
       "    <tr>\n",
       "      <th>...</th>\n",
       "      <td>...</td>\n",
       "      <td>...</td>\n",
       "      <td>...</td>\n",
       "      <td>...</td>\n",
       "      <td>...</td>\n",
       "      <td>...</td>\n",
       "      <td>...</td>\n",
       "      <td>...</td>\n",
       "      <td>...</td>\n",
       "      <td>...</td>\n",
       "    </tr>\n",
       "    <tr>\n",
       "      <th>573</th>\n",
       "      <td>4036284</td>\n",
       "      <td>alofi</td>\n",
       "      <td>NU</td>\n",
       "      <td>1644099884</td>\n",
       "      <td>-19.0595</td>\n",
       "      <td>-169.9187</td>\n",
       "      <td>80.49</td>\n",
       "      <td>89</td>\n",
       "      <td>98</td>\n",
       "      <td>8.05</td>\n",
       "    </tr>\n",
       "    <tr>\n",
       "      <th>574</th>\n",
       "      <td>4031637</td>\n",
       "      <td>lavrentiya</td>\n",
       "      <td>RU</td>\n",
       "      <td>1644100061</td>\n",
       "      <td>65.5833</td>\n",
       "      <td>-171.0000</td>\n",
       "      <td>-15.97</td>\n",
       "      <td>94</td>\n",
       "      <td>9</td>\n",
       "      <td>9.64</td>\n",
       "    </tr>\n",
       "    <tr>\n",
       "      <th>575</th>\n",
       "      <td>4031574</td>\n",
       "      <td>provideniya</td>\n",
       "      <td>RU</td>\n",
       "      <td>1644099886</td>\n",
       "      <td>64.3833</td>\n",
       "      <td>-173.3000</td>\n",
       "      <td>-4.45</td>\n",
       "      <td>85</td>\n",
       "      <td>2</td>\n",
       "      <td>10.25</td>\n",
       "    </tr>\n",
       "    <tr>\n",
       "      <th>576</th>\n",
       "      <td>4032243</td>\n",
       "      <td>vaini</td>\n",
       "      <td>TO</td>\n",
       "      <td>1644099766</td>\n",
       "      <td>-21.2000</td>\n",
       "      <td>-175.2000</td>\n",
       "      <td>78.96</td>\n",
       "      <td>100</td>\n",
       "      <td>100</td>\n",
       "      <td>14.97</td>\n",
       "    </tr>\n",
       "    <tr>\n",
       "      <th>577</th>\n",
       "      <td>4031742</td>\n",
       "      <td>egvekinot</td>\n",
       "      <td>RU</td>\n",
       "      <td>1644100080</td>\n",
       "      <td>66.3167</td>\n",
       "      <td>-179.1667</td>\n",
       "      <td>-9.54</td>\n",
       "      <td>86</td>\n",
       "      <td>10</td>\n",
       "      <td>12.46</td>\n",
       "    </tr>\n",
       "  </tbody>\n",
       "</table>\n",
       "<p>571 rows × 10 columns</p>\n",
       "</div>"
      ],
      "text/plain": [
       "     City_ID           City Country        Date      Lat       Lng  Max Temp  \\\n",
       "0    2126710   beringovskiy      RU  1644099910  63.0500  179.3167    -10.55   \n",
       "1    2123814  leningradskiy      RU  1644099830  69.3833  178.4167    -22.02   \n",
       "2    2186338       murupara      NZ  1644100068 -38.4667  176.7000     70.56   \n",
       "3    2179756         waiuku      NZ  1644100007 -37.2500  174.7500     72.66   \n",
       "4    2186111       ngunguru      NZ  1644099881 -35.6167  174.5000     76.15   \n",
       "..       ...            ...     ...         ...      ...       ...       ...   \n",
       "573  4036284          alofi      NU  1644099884 -19.0595 -169.9187     80.49   \n",
       "574  4031637     lavrentiya      RU  1644100061  65.5833 -171.0000    -15.97   \n",
       "575  4031574    provideniya      RU  1644099886  64.3833 -173.3000     -4.45   \n",
       "576  4032243          vaini      TO  1644099766 -21.2000 -175.2000     78.96   \n",
       "577  4031742      egvekinot      RU  1644100080  66.3167 -179.1667     -9.54   \n",
       "\n",
       "     Humidity  Cloudiness  Wind Speed  \n",
       "0          93          54       13.78  \n",
       "1          96           8        3.74  \n",
       "2         100         100        3.29  \n",
       "3          99         100        8.01  \n",
       "4          97         100       12.71  \n",
       "..        ...         ...         ...  \n",
       "573        89          98        8.05  \n",
       "574        94           9        9.64  \n",
       "575        85           2       10.25  \n",
       "576       100         100       14.97  \n",
       "577        86          10       12.46  \n",
       "\n",
       "[571 rows x 10 columns]"
      ]
     },
     "execution_count": 9,
     "metadata": {},
     "output_type": "execute_result"
    }
   ],
   "source": [
    "city_data = pd.read_csv('../output_data/cities.csv')\n",
    "city_data = city_data.dropna() \n",
    "city_data = city_data.sort_values(by ='Lng', ascending = False)\n",
    "city_data"
   ]
  },
  {
   "cell_type": "code",
   "execution_count": null,
   "metadata": {
    "tags": []
   },
   "outputs": [],
   "source": []
  },
  {
   "cell_type": "code",
   "execution_count": null,
   "metadata": {},
   "outputs": [],
   "source": []
  },
  {
   "cell_type": "code",
   "execution_count": 10,
   "metadata": {
    "tags": []
   },
   "outputs": [
    {
     "data": {
      "text/html": [
       "<div>\n",
       "<style scoped>\n",
       "    .dataframe tbody tr th:only-of-type {\n",
       "        vertical-align: middle;\n",
       "    }\n",
       "\n",
       "    .dataframe tbody tr th {\n",
       "        vertical-align: top;\n",
       "    }\n",
       "\n",
       "    .dataframe thead th {\n",
       "        text-align: right;\n",
       "    }\n",
       "</style>\n",
       "<table border=\"1\" class=\"dataframe\">\n",
       "  <thead>\n",
       "    <tr style=\"text-align: right;\">\n",
       "      <th></th>\n",
       "      <th>City_ID</th>\n",
       "      <th>Date</th>\n",
       "      <th>Lat</th>\n",
       "      <th>Lng</th>\n",
       "      <th>Max Temp</th>\n",
       "      <th>Humidity</th>\n",
       "      <th>Cloudiness</th>\n",
       "      <th>Wind Speed</th>\n",
       "    </tr>\n",
       "  </thead>\n",
       "  <tbody>\n",
       "    <tr>\n",
       "      <th>count</th>\n",
       "      <td>5.710000e+02</td>\n",
       "      <td>5.710000e+02</td>\n",
       "      <td>571.000000</td>\n",
       "      <td>571.000000</td>\n",
       "      <td>571.000000</td>\n",
       "      <td>571.000000</td>\n",
       "      <td>571.000000</td>\n",
       "      <td>571.000000</td>\n",
       "    </tr>\n",
       "    <tr>\n",
       "      <th>mean</th>\n",
       "      <td>2.653550e+06</td>\n",
       "      <td>1.644100e+09</td>\n",
       "      <td>19.385015</td>\n",
       "      <td>20.650015</td>\n",
       "      <td>48.442049</td>\n",
       "      <td>73.644483</td>\n",
       "      <td>56.192644</td>\n",
       "      <td>8.596743</td>\n",
       "    </tr>\n",
       "    <tr>\n",
       "      <th>std</th>\n",
       "      <td>1.641809e+06</td>\n",
       "      <td>1.057627e+02</td>\n",
       "      <td>33.750428</td>\n",
       "      <td>90.252738</td>\n",
       "      <td>32.485552</td>\n",
       "      <td>20.927814</td>\n",
       "      <td>40.799527</td>\n",
       "      <td>6.096510</td>\n",
       "    </tr>\n",
       "    <tr>\n",
       "      <th>min</th>\n",
       "      <td>5.315700e+04</td>\n",
       "      <td>1.644099e+09</td>\n",
       "      <td>-54.800000</td>\n",
       "      <td>-179.166700</td>\n",
       "      <td>-45.920000</td>\n",
       "      <td>10.000000</td>\n",
       "      <td>0.000000</td>\n",
       "      <td>0.000000</td>\n",
       "    </tr>\n",
       "    <tr>\n",
       "      <th>25%</th>\n",
       "      <td>1.504119e+06</td>\n",
       "      <td>1.644100e+09</td>\n",
       "      <td>-8.176150</td>\n",
       "      <td>-59.839550</td>\n",
       "      <td>26.495000</td>\n",
       "      <td>64.000000</td>\n",
       "      <td>10.500000</td>\n",
       "      <td>4.070000</td>\n",
       "    </tr>\n",
       "    <tr>\n",
       "      <th>50%</th>\n",
       "      <td>2.177671e+06</td>\n",
       "      <td>1.644100e+09</td>\n",
       "      <td>22.833300</td>\n",
       "      <td>26.891000</td>\n",
       "      <td>61.930000</td>\n",
       "      <td>78.000000</td>\n",
       "      <td>74.000000</td>\n",
       "      <td>7.070000</td>\n",
       "    </tr>\n",
       "    <tr>\n",
       "      <th>75%</th>\n",
       "      <td>3.624072e+06</td>\n",
       "      <td>1.644100e+09</td>\n",
       "      <td>48.530500</td>\n",
       "      <td>98.981800</td>\n",
       "      <td>75.300000</td>\n",
       "      <td>89.000000</td>\n",
       "      <td>99.000000</td>\n",
       "      <td>11.500000</td>\n",
       "    </tr>\n",
       "    <tr>\n",
       "      <th>max</th>\n",
       "      <td>1.072286e+07</td>\n",
       "      <td>1.644100e+09</td>\n",
       "      <td>78.218600</td>\n",
       "      <td>179.316700</td>\n",
       "      <td>94.590000</td>\n",
       "      <td>100.000000</td>\n",
       "      <td>100.000000</td>\n",
       "      <td>37.020000</td>\n",
       "    </tr>\n",
       "  </tbody>\n",
       "</table>\n",
       "</div>"
      ],
      "text/plain": [
       "            City_ID          Date         Lat         Lng    Max Temp  \\\n",
       "count  5.710000e+02  5.710000e+02  571.000000  571.000000  571.000000   \n",
       "mean   2.653550e+06  1.644100e+09   19.385015   20.650015   48.442049   \n",
       "std    1.641809e+06  1.057627e+02   33.750428   90.252738   32.485552   \n",
       "min    5.315700e+04  1.644099e+09  -54.800000 -179.166700  -45.920000   \n",
       "25%    1.504119e+06  1.644100e+09   -8.176150  -59.839550   26.495000   \n",
       "50%    2.177671e+06  1.644100e+09   22.833300   26.891000   61.930000   \n",
       "75%    3.624072e+06  1.644100e+09   48.530500   98.981800   75.300000   \n",
       "max    1.072286e+07  1.644100e+09   78.218600  179.316700   94.590000   \n",
       "\n",
       "         Humidity  Cloudiness  Wind Speed  \n",
       "count  571.000000  571.000000  571.000000  \n",
       "mean    73.644483   56.192644    8.596743  \n",
       "std     20.927814   40.799527    6.096510  \n",
       "min     10.000000    0.000000    0.000000  \n",
       "25%     64.000000   10.500000    4.070000  \n",
       "50%     78.000000   74.000000    7.070000  \n",
       "75%     89.000000   99.000000   11.500000  \n",
       "max    100.000000  100.000000   37.020000  "
      ]
     },
     "execution_count": 10,
     "metadata": {},
     "output_type": "execute_result"
    }
   ],
   "source": [
    "city_data.describe()"
   ]
  },
  {
   "cell_type": "markdown",
   "metadata": {},
   "source": [
    "## Inspect the data and remove the cities where the humidity > 100%.\n",
    "----\n",
    "Skip this step if there are no cities that have humidity > 100%. "
   ]
  },
  {
   "cell_type": "code",
   "execution_count": null,
   "metadata": {
    "tags": []
   },
   "outputs": [],
   "source": []
  },
  {
   "cell_type": "code",
   "execution_count": 11,
   "metadata": {
    "tags": []
   },
   "outputs": [
    {
     "data": {
      "text/html": [
       "<div>\n",
       "<style scoped>\n",
       "    .dataframe tbody tr th:only-of-type {\n",
       "        vertical-align: middle;\n",
       "    }\n",
       "\n",
       "    .dataframe tbody tr th {\n",
       "        vertical-align: top;\n",
       "    }\n",
       "\n",
       "    .dataframe thead th {\n",
       "        text-align: right;\n",
       "    }\n",
       "</style>\n",
       "<table border=\"1\" class=\"dataframe\">\n",
       "  <thead>\n",
       "    <tr style=\"text-align: right;\">\n",
       "      <th></th>\n",
       "      <th>City_ID</th>\n",
       "      <th>City</th>\n",
       "      <th>Country</th>\n",
       "      <th>Date</th>\n",
       "      <th>Lat</th>\n",
       "      <th>Lng</th>\n",
       "      <th>Max Temp</th>\n",
       "      <th>Humidity</th>\n",
       "      <th>Cloudiness</th>\n",
       "      <th>Wind Speed</th>\n",
       "    </tr>\n",
       "  </thead>\n",
       "  <tbody>\n",
       "  </tbody>\n",
       "</table>\n",
       "</div>"
      ],
      "text/plain": [
       "Empty DataFrame\n",
       "Columns: [City_ID, City, Country, Date, Lat, Lng, Max Temp, Humidity, Cloudiness, Wind Speed]\n",
       "Index: []"
      ]
     },
     "execution_count": 11,
     "metadata": {},
     "output_type": "execute_result"
    }
   ],
   "source": [
    "over_100 = city_data.loc[city_data['Humidity']>100]\n",
    "over_100"
   ]
  },
  {
   "cell_type": "code",
   "execution_count": 12,
   "metadata": {},
   "outputs": [
    {
     "data": {
      "text/html": [
       "<div>\n",
       "<style scoped>\n",
       "    .dataframe tbody tr th:only-of-type {\n",
       "        vertical-align: middle;\n",
       "    }\n",
       "\n",
       "    .dataframe tbody tr th {\n",
       "        vertical-align: top;\n",
       "    }\n",
       "\n",
       "    .dataframe thead th {\n",
       "        text-align: right;\n",
       "    }\n",
       "</style>\n",
       "<table border=\"1\" class=\"dataframe\">\n",
       "  <thead>\n",
       "    <tr style=\"text-align: right;\">\n",
       "      <th></th>\n",
       "      <th>City_ID</th>\n",
       "      <th>City</th>\n",
       "      <th>Country</th>\n",
       "      <th>Date</th>\n",
       "      <th>Lat</th>\n",
       "      <th>Lng</th>\n",
       "      <th>Max Temp</th>\n",
       "      <th>Humidity</th>\n",
       "      <th>Cloudiness</th>\n",
       "      <th>Wind Speed</th>\n",
       "    </tr>\n",
       "  </thead>\n",
       "  <tbody>\n",
       "    <tr>\n",
       "      <th>0</th>\n",
       "      <td>2126710</td>\n",
       "      <td>beringovskiy</td>\n",
       "      <td>RU</td>\n",
       "      <td>1644099910</td>\n",
       "      <td>63.0500</td>\n",
       "      <td>179.3167</td>\n",
       "      <td>-10.55</td>\n",
       "      <td>93</td>\n",
       "      <td>54</td>\n",
       "      <td>13.78</td>\n",
       "    </tr>\n",
       "    <tr>\n",
       "      <th>1</th>\n",
       "      <td>2123814</td>\n",
       "      <td>leningradskiy</td>\n",
       "      <td>RU</td>\n",
       "      <td>1644099830</td>\n",
       "      <td>69.3833</td>\n",
       "      <td>178.4167</td>\n",
       "      <td>-22.02</td>\n",
       "      <td>96</td>\n",
       "      <td>8</td>\n",
       "      <td>3.74</td>\n",
       "    </tr>\n",
       "    <tr>\n",
       "      <th>2</th>\n",
       "      <td>2186338</td>\n",
       "      <td>murupara</td>\n",
       "      <td>NZ</td>\n",
       "      <td>1644100068</td>\n",
       "      <td>-38.4667</td>\n",
       "      <td>176.7000</td>\n",
       "      <td>70.56</td>\n",
       "      <td>100</td>\n",
       "      <td>100</td>\n",
       "      <td>3.29</td>\n",
       "    </tr>\n",
       "    <tr>\n",
       "      <th>3</th>\n",
       "      <td>2179756</td>\n",
       "      <td>waiuku</td>\n",
       "      <td>NZ</td>\n",
       "      <td>1644100007</td>\n",
       "      <td>-37.2500</td>\n",
       "      <td>174.7500</td>\n",
       "      <td>72.66</td>\n",
       "      <td>99</td>\n",
       "      <td>100</td>\n",
       "      <td>8.01</td>\n",
       "    </tr>\n",
       "    <tr>\n",
       "      <th>4</th>\n",
       "      <td>2186111</td>\n",
       "      <td>ngunguru</td>\n",
       "      <td>NZ</td>\n",
       "      <td>1644099881</td>\n",
       "      <td>-35.6167</td>\n",
       "      <td>174.5000</td>\n",
       "      <td>76.15</td>\n",
       "      <td>97</td>\n",
       "      <td>100</td>\n",
       "      <td>12.71</td>\n",
       "    </tr>\n",
       "  </tbody>\n",
       "</table>\n",
       "</div>"
      ],
      "text/plain": [
       "   City_ID           City Country        Date      Lat       Lng  Max Temp  \\\n",
       "0  2126710   beringovskiy      RU  1644099910  63.0500  179.3167    -10.55   \n",
       "1  2123814  leningradskiy      RU  1644099830  69.3833  178.4167    -22.02   \n",
       "2  2186338       murupara      NZ  1644100068 -38.4667  176.7000     70.56   \n",
       "3  2179756         waiuku      NZ  1644100007 -37.2500  174.7500     72.66   \n",
       "4  2186111       ngunguru      NZ  1644099881 -35.6167  174.5000     76.15   \n",
       "\n",
       "   Humidity  Cloudiness  Wind Speed  \n",
       "0        93          54       13.78  \n",
       "1        96           8        3.74  \n",
       "2       100         100        3.29  \n",
       "3        99         100        8.01  \n",
       "4        97         100       12.71  "
      ]
     },
     "execution_count": 12,
     "metadata": {},
     "output_type": "execute_result"
    }
   ],
   "source": [
    "#  Get the indices of cities that have humidity over 100%.\n",
    "clean_data = city_data.drop(city_data.loc[city_data['Humidity']>100].index, inplace=False)\n",
    "clean_data.head()"
   ]
  },
  {
   "cell_type": "code",
   "execution_count": 13,
   "metadata": {},
   "outputs": [],
   "source": [
    "# Make a new DataFrame equal to the city data to drop all humidity outliers by index.\n",
    "# Passing \"inplace=False\" will make a copy of the city_data DataFrame, which we call \"clean_city_data\".\n"
   ]
  },
  {
   "cell_type": "code",
   "execution_count": null,
   "metadata": {
    "tags": []
   },
   "outputs": [],
   "source": [
    "\n"
   ]
  },
  {
   "cell_type": "markdown",
   "metadata": {},
   "source": [
    "## Plotting the Data\n",
    "* Use proper labeling of the plots using plot titles (including date of analysis) and axes labels.\n",
    "* Save the plotted figures as .pngs."
   ]
  },
  {
   "cell_type": "markdown",
   "metadata": {},
   "source": [
    "## Latitude vs. Temperature Plot"
   ]
  },
  {
   "cell_type": "markdown",
   "metadata": {
    "scrolled": true
   },
   "source": [
    "The Chart below is looking at the Temperature vs the Latitude.  You can infer that there is a relationship as the higher the latitude the lower the temp.  You can validate this with a regression line"
   ]
  },
  {
   "cell_type": "code",
   "execution_count": 43,
   "metadata": {
    "tags": []
   },
   "outputs": [
    {
     "data": {
      "image/png": "[encoded data removed]",
      "text/plain": [
       "<Figure size 432x288 with 1 Axes>"
      ]
     },
     "metadata": {
      "needs_background": "light"
     },
     "output_type": "display_data"
    }
   ],
   "source": [
    "plt.scatter(clean_data['Lat'],clean_data['Max Temp'])\n",
    "plt.xlabel('Latitude')\n",
    "plt.ylabel('Max Temperature (F)')\n",
    "plt.title('City Latitude vs. Max Temperature 2/5/22')\n",
    "plt.tight_layout()\n",
    "plt.savefig(\"../Images/lat_vs_max_temp.png\")\n",
    "plt.show()"
   ]
  },
  {
   "cell_type": "markdown",
   "metadata": {},
   "source": [
    "## Latitude vs. Humidity Plot"
   ]
  },
  {
   "cell_type": "markdown",
   "metadata": {},
   "source": [
    "The chart below is looking at the Humidity vs the Latitude.  There seems to be less of a relationship with the latitude.  It may be interesting to look at Longitude to see if there is a better cluster"
   ]
  },
  {
   "cell_type": "code",
   "execution_count": 42,
   "metadata": {
    "tags": []
   },
   "outputs": [
    {
     "data": {
      "image/png": "[encoded data removed]",
      "text/plain": [
       "<Figure size 432x288 with 1 Axes>"
      ]
     },
     "metadata": {
      "needs_background": "light"
     },
     "output_type": "display_data"
    }
   ],
   "source": [
    "plt.scatter(clean_data['Lat'],clean_data['Humidity'])\n",
    "plt.xlabel('Latitude')\n",
    "plt.ylabel('Humidity (%)')\n",
    "plt.title('City Latitude vs. Humidity 2/5/22')\n",
    "plt.tight_layout()\n",
    "plt.savefig(\"../Images/lat_vs_humidity.png\")\n",
    "plt.show()"
   ]
  },
  {
   "cell_type": "markdown",
   "metadata": {},
   "source": [
    "## Latitude vs. Cloudiness Plot"
   ]
  },
  {
   "cell_type": "markdown",
   "metadata": {},
   "source": [
    "On Feb 2/5/22, there seems to be very polaring cloudiness as it cluster closes to 100 and 0.  So there is a very loose relationship as you go up an down the equator."
   ]
  },
  {
   "cell_type": "code",
   "execution_count": 41,
   "metadata": {},
   "outputs": [
    {
     "data": {
      "image/png": "[encoded data removed]",
      "text/plain": [
       "<Figure size 432x288 with 1 Axes>"
      ]
     },
     "metadata": {
      "needs_background": "light"
     },
     "output_type": "display_data"
    }
   ],
   "source": [
    "plt.scatter(clean_data['Lat'],clean_data['Cloudiness'], c = 'red')\n",
    "plt.xlabel('Latitude')\n",
    "plt.ylabel('Cloudiness (%)')\n",
    "plt.title('City Latitude vs. Cloudiness 2/5/22')\n",
    "plt.tight_layout()\n",
    "plt.savefig(\"../Images/lat_vs_cloudiness.png\")\n",
    "plt.show()"
   ]
  },
  {
   "cell_type": "markdown",
   "metadata": {},
   "source": [
    "## Latitude vs. Wind Speed Plot"
   ]
  },
  {
   "cell_type": "markdown",
   "metadata": {},
   "source": [
    "This graph is looking at windspeed at various horizontal points of the world.  It seems that the 7mph is common across the wrold and ther ewere some outliers in the higher latitude areas (near the north pole)"
   ]
  },
  {
   "cell_type": "code",
   "execution_count": 40,
   "metadata": {},
   "outputs": [
    {
     "data": {
      "image/png": "[encoded data removed]",
      "text/plain": [
       "<Figure size 432x288 with 1 Axes>"
      ]
     },
     "metadata": {
      "needs_background": "light"
     },
     "output_type": "display_data"
    }
   ],
   "source": [
    "plt.scatter(clean_data['Lat'],clean_data['Wind Speed'])\n",
    "plt.xlabel('Latitude')\n",
    "plt.ylabel('Wind Speed (MPH)')\n",
    "plt.title('City Latitude vs. Wind Speed 2/5/22')\n",
    "plt.tight_layout()\n",
    "plt.savefig(\"../Images/lat_vs_windspeed.png\")\n",
    "plt.show()"
   ]
  },
  {
   "cell_type": "markdown",
   "metadata": {},
   "source": [
    "## Linear Regression"
   ]
  },
  {
   "cell_type": "code",
   "execution_count": null,
   "metadata": {},
   "outputs": [],
   "source": []
  },
  {
   "cell_type": "markdown",
   "metadata": {},
   "source": [
    "####  Northern Hemisphere - Max Temp vs. Latitude Linear Regression"
   ]
  },
  {
   "cell_type": "code",
   "execution_count": null,
   "metadata": {},
   "outputs": [],
   "source": []
  },
  {
   "cell_type": "code",
   "execution_count": 27,
   "metadata": {},
   "outputs": [],
   "source": [
    "clean_data_northern = clean_data.loc[clean_data['Lat']>=0]\n",
    "clean_data_southern = clean_data.loc[clean_data['Lat']<=0]"
   ]
  },
  {
   "cell_type": "code",
   "execution_count": 31,
   "metadata": {},
   "outputs": [
    {
     "name": "stdout",
     "output_type": "stream",
     "text": [
      "The r-squared is: 0.7418960376227772\n",
      "The r is: -0.8613338711688849\n"
     ]
    },
    {
     "data": {
      "image/png": "[encoded data removed]",
      "text/plain": [
       "<Figure size 432x288 with 1 Axes>"
      ]
     },
     "metadata": {
      "needs_background": "light"
     },
     "output_type": "display_data"
    }
   ],
   "source": [
    " \n",
    "x_values = clean_data_northern['Lat']\n",
    "y_values = clean_data_northern['Max Temp']\n",
    "(slope, intercept, rvalue, pvalue, stderr) = linregress(x_values, y_values)\n",
    "\n",
    "# y = m(Slope)x + b (intecept)\n",
    "regress_values = x_values * slope + intercept\n",
    "# we get a list of regrss values that creates a line\n",
    "line_eq = \"y = \" + str(round(slope,2)) + \"x + \" + str(round(intercept,2))\n",
    "print(f\"The r-squared is: {rvalue**2}\")\n",
    "print(f\"The r is: {rvalue}\")\n",
    "plt.scatter(x_values,y_values)\n",
    "plt.plot(x_values,regress_values,\"r-\")\n",
    "plt.annotate(line_eq,(10,-30),fontsize=15,color=\"red\")\n",
    "plt.xlabel('Latitude')\n",
    "plt.ylabel('Max Temp')\n",
    "plt.title('Northern Hemisphere - Max Temp vs. Latitude Linear Regression 2/5/22')\n",
    "\n",
    "plt.tight_layout()\n",
    "plt.savefig(\"../Images/regress_max_temp_vs_lat.png\")\n",
    "plt.show()"
   ]
  },
  {
   "cell_type": "markdown",
   "metadata": {},
   "source": [
    "Temp and Latitude have a strong inverse relationship in the northern hemp.  This means as the latitudes go up the temp go down.  We can feel confident that this may be a good indicator for other datapoints becuase we have a strong R^2"
   ]
  },
  {
   "cell_type": "markdown",
   "metadata": {},
   "source": []
  },
  {
   "cell_type": "markdown",
   "metadata": {},
   "source": [
    "####  Southern Hemisphere - Max Temp vs. Latitude Linear Regression"
   ]
  },
  {
   "cell_type": "markdown",
   "metadata": {},
   "source": [
    "Conversely, in the Southern Hemisphere, currently there is a weaker positive correlation where the temps go up as the latitudes come closer to the equator.  it is summer time in the southern hemp so it drives these results."
   ]
  },
  {
   "cell_type": "code",
   "execution_count": 32,
   "metadata": {},
   "outputs": [
    {
     "name": "stdout",
     "output_type": "stream",
     "text": [
      "The r-squared is: 0.36536166191912045\n",
      "The r is: 0.6044515381063402\n"
     ]
    },
    {
     "data": {
      "image/png": "[encoded data removed]",
      "text/plain": [
       "<Figure size 432x288 with 1 Axes>"
      ]
     },
     "metadata": {
      "needs_background": "light"
     },
     "output_type": "display_data"
    }
   ],
   "source": [
    " \n",
    "x_values = clean_data_southern['Lat']\n",
    "y_values = clean_data_southern['Max Temp']\n",
    "(slope, intercept, rvalue, pvalue, stderr) = linregress(x_values, y_values)\n",
    "\n",
    "# y = m(Slope)x + b (intecept)\n",
    "regress_values = x_values * slope + intercept\n",
    "# we get a list of regrss values that creates a line\n",
    "line_eq = \"y = \" + str(round(slope,2)) + \"x + \" + str(round(intercept,2))\n",
    "plt.scatter(x_values,y_values)\n",
    "plt.plot(x_values,regress_values,\"r-\")\n",
    "plt.annotate(line_eq,(-40,10),fontsize=15,color=\"red\")\n",
    "plt.xlabel('Latitude')\n",
    "plt.ylabel('Max Temp')\n",
    "plt.title('Southern Hemisphere - Max Temp vs. Latitude Linear Regression 2/5/22')\n",
    "print(f\"The r-squared is: {rvalue**2}\")\n",
    "print(f\"The r is: {rvalue}\")\n",
    "plt.tight_layout()\n",
    "plt.savefig(\"../Images/regress_south_max_temp_vs_lat.png\")\n",
    "plt.show()"
   ]
  },
  {
   "cell_type": "markdown",
   "metadata": {},
   "source": [
    "####  Northern Hemisphere - Humidity (%) vs. Latitude Linear Regression"
   ]
  },
  {
   "cell_type": "markdown",
   "metadata": {},
   "source": [
    "Very Weak correlation betwen Humidity and Lat in The northern Hemp"
   ]
  },
  {
   "cell_type": "code",
   "execution_count": 34,
   "metadata": {},
   "outputs": [
    {
     "name": "stdout",
     "output_type": "stream",
     "text": [
      "The r-squared is: 0.143377899378315\n",
      "The r is: 0.37865274246770614\n"
     ]
    },
    {
     "data": {
      "image/png": "[encoded data removed]",
      "text/plain": [
       "<Figure size 432x288 with 1 Axes>"
      ]
     },
     "metadata": {
      "needs_background": "light"
     },
     "output_type": "display_data"
    }
   ],
   "source": [
    " \n",
    "x_values = clean_data_northern['Lat']\n",
    "y_values = clean_data_northern['Humidity']\n",
    "(slope, intercept, rvalue, pvalue, stderr) = linregress(x_values, y_values)\n",
    "\n",
    "# y = m(Slope)x + b (intecept)\n",
    "regress_values = x_values * slope + intercept\n",
    "# we get a list of regrss values that creates a line\n",
    "line_eq = \"y = \" + str(round(slope,2)) + \"x + \" + str(round(intercept,2))\n",
    "plt.scatter(x_values,y_values)\n",
    "plt.plot(x_values,regress_values,\"r-\")\n",
    "plt.annotate(line_eq,(40,10),fontsize=15,color=\"red\")\n",
    "plt.xlabel('Latitude')\n",
    "plt.ylabel('Humidity')\n",
    "plt.title('Northern Hemisphere - Humidity (%) vs. Latitude Linear Regression 2/5/22')\n",
    "print(f\"The r-squared is: {rvalue**2}\")\n",
    "print(f\"The r is: {rvalue}\")\n",
    "plt.tight_layout()\n",
    "plt.savefig(\"../Images/regress_humidity_vs_lat.png\")\n",
    "plt.show()"
   ]
  },
  {
   "cell_type": "markdown",
   "metadata": {},
   "source": [
    "####  Southern Hemisphere - Humidity (%) vs. Latitude Linear Regression"
   ]
  },
  {
   "cell_type": "markdown",
   "metadata": {},
   "source": [
    "Very Weak correlation betwen Humidity and Lat in The Southern Hemp. This is not statistically significant."
   ]
  },
  {
   "cell_type": "code",
   "execution_count": 35,
   "metadata": {},
   "outputs": [
    {
     "name": "stdout",
     "output_type": "stream",
     "text": [
      "The r-squared is: 0.13133229075839298\n",
      "The r is: 0.3623979728949832\n"
     ]
    },
    {
     "data": {
      "image/png": "[encoded data removed]",
      "text/plain": [
       "<Figure size 432x288 with 1 Axes>"
      ]
     },
     "metadata": {
      "needs_background": "light"
     },
     "output_type": "display_data"
    }
   ],
   "source": [
    "x_values = clean_data_southern['Lat']\n",
    "y_values = clean_data_southern['Humidity']\n",
    "(slope, intercept, rvalue, pvalue, stderr) = linregress(x_values, y_values)\n",
    "\n",
    "# y = m(Slope)x + b (intecept)\n",
    "regress_values = x_values * slope + intercept\n",
    "# we get a list of regrss values that creates a line\n",
    "line_eq = \"y = \" + str(round(slope,2)) + \"x + \" + str(round(intercept,2))\n",
    "plt.scatter(x_values,y_values)\n",
    "plt.plot(x_values,regress_values,\"r-\")\n",
    "plt.annotate(line_eq,(-30,30),fontsize=15,color=\"red\")\n",
    "plt.xlabel('Latitude')\n",
    "plt.ylabel('Humidity')\n",
    "plt.title('Southern Hemisphere - Humidity vs. Latitude Linear Regression 2/5/22')\n",
    "print(f\"The r-squared is: {rvalue**2}\")\n",
    "print(f\"The r is: {rvalue}\")\n",
    "plt.tight_layout()\n",
    "plt.savefig(\"../Images/regress_south_humidity_vs_lat.png\")\n",
    "plt.show()"
   ]
  },
  {
   "cell_type": "markdown",
   "metadata": {},
   "source": [
    "####  Northern Hemisphere - Cloudiness (%) vs. Latitude Linear Regression"
   ]
  },
  {
   "cell_type": "markdown",
   "metadata": {},
   "source": [
    "Very Weak correlation betwen Humidity and Lat in The Northern Hemp. This is not statistically significant."
   ]
  },
  {
   "cell_type": "code",
   "execution_count": 36,
   "metadata": {},
   "outputs": [
    {
     "name": "stdout",
     "output_type": "stream",
     "text": [
      "The r-squared is: 0.10794742225309403\n",
      "The r is: 0.328553530270326\n"
     ]
    },
    {
     "data": {
      "image/png": "[encoded data removed]",
      "text/plain": [
       "<Figure size 432x288 with 1 Axes>"
      ]
     },
     "metadata": {
      "needs_background": "light"
     },
     "output_type": "display_data"
    }
   ],
   "source": [
    "x_values = clean_data_northern['Lat']\n",
    "y_values = clean_data_northern['Cloudiness']\n",
    "(slope, intercept, rvalue, pvalue, stderr) = linregress(x_values, y_values)\n",
    "\n",
    "# y = m(Slope)x + b (intecept)\n",
    "regress_values = x_values * slope + intercept\n",
    "# we get a list of regrss values that creates a line\n",
    "line_eq = \"y = \" + str(round(slope,2)) + \"x + \" + str(round(intercept,2))\n",
    "plt.scatter(x_values,y_values)\n",
    "plt.plot(x_values,regress_values,\"r-\")\n",
    "plt.annotate(line_eq,(6,10),fontsize=15,color=\"red\")\n",
    "plt.xlabel('Latitude')\n",
    "plt.ylabel('Cloudiness')\n",
    "plt.title('Northern Hemisphere - Cloudiness (%) vs. Latitude Linear Regression 2/5/22')\n",
    "print(f\"The r-squared is: {rvalue**2}\")\n",
    "print(f\"The r is: {rvalue}\")\n",
    "plt.tight_layout()\n",
    "plt.savefig(\"../Images/regress_cloudiness_vs_lat.png\")\n",
    "plt.show()"
   ]
  },
  {
   "cell_type": "markdown",
   "metadata": {},
   "source": [
    "####  Southern Hemisphere - Cloudiness (%) vs. Latitude Linear Regression"
   ]
  },
  {
   "cell_type": "markdown",
   "metadata": {},
   "source": [
    "Very Weak correlation betwen Humidity and Lat in The Southern Hemp. This is not statistically significant."
   ]
  },
  {
   "cell_type": "code",
   "execution_count": 37,
   "metadata": {
    "tags": []
   },
   "outputs": [
    {
     "name": "stdout",
     "output_type": "stream",
     "text": [
      "The r-squared is: 0.02896261542480427\n",
      "The r is: 0.1701840633690601\n"
     ]
    },
    {
     "data": {
      "image/png": "[encoded data removed]",
      "text/plain": [
       "<Figure size 432x288 with 1 Axes>"
      ]
     },
     "metadata": {
      "needs_background": "light"
     },
     "output_type": "display_data"
    }
   ],
   "source": [
    "x_values = clean_data_southern['Lat']\n",
    "y_values = clean_data_southern['Cloudiness']\n",
    "(slope, intercept, rvalue, pvalue, stderr) = linregress(x_values, y_values)\n",
    "\n",
    "# y = m(Slope)x + b (intecept)\n",
    "regress_values = x_values * slope + intercept\n",
    "# we get a list of regrss values that creates a line\n",
    "line_eq = \"y = \" + str(round(slope,2)) + \"x + \" + str(round(intercept,2))\n",
    "plt.scatter(x_values,y_values)\n",
    "plt.plot(x_values,regress_values,\"r-\")\n",
    "plt.annotate(line_eq,(-30,20),fontsize=15,color=\"red\")\n",
    "plt.xlabel('Latitude')\n",
    "plt.ylabel('Cloudiness')\n",
    "plt.title('Southern Hemisphere - Cloudiness(%) vs. Latitude Linear Regression 2/5/22')\n",
    "print(f\"The r-squared is: {rvalue**2}\")\n",
    "print(f\"The r is: {rvalue}\")\n",
    "plt.tight_layout()\n",
    "plt.savefig(\"../Images/regress_south_cloudiness_vs_lat.png\")\n",
    "plt.show()"
   ]
  },
  {
   "cell_type": "markdown",
   "metadata": {},
   "source": [
    "####  Northern Hemisphere - Wind Speed (mph) vs. Latitude Linear Regression"
   ]
  },
  {
   "cell_type": "markdown",
   "metadata": {},
   "source": [
    "Very Weak correlation betwen Humidity and Lat in The Northern Hemp. This is not statistically significant."
   ]
  },
  {
   "cell_type": "code",
   "execution_count": 38,
   "metadata": {},
   "outputs": [
    {
     "name": "stdout",
     "output_type": "stream",
     "text": [
      "The r-squared is: 0.0014333669767698815\n",
      "The r is: 0.03785983329030757\n"
     ]
    },
    {
     "data": {
      "image/png": "[encoded data removed]",
      "text/plain": [
       "<Figure size 432x288 with 1 Axes>"
      ]
     },
     "metadata": {
      "needs_background": "light"
     },
     "output_type": "display_data"
    }
   ],
   "source": [
    "x_values = clean_data_northern['Lat']\n",
    "y_values = clean_data_northern['Wind Speed']\n",
    "(slope, intercept, rvalue, pvalue, stderr) = linregress(x_values, y_values)\n",
    "\n",
    "# y = m(Slope)x + b (intecept)\n",
    "regress_values = x_values * slope + intercept\n",
    "# we get a list of regrss values that creates a line\n",
    "line_eq = \"y = \" + str(round(slope,2)) + \"x + \" + str(round(intercept,2))\n",
    "plt.scatter(x_values,y_values)\n",
    "plt.plot(x_values,regress_values,\"r-\")\n",
    "plt.annotate(line_eq,(6,10),fontsize=15,color=\"red\")\n",
    "plt.xlabel('Latitude')\n",
    "plt.ylabel('Wind Speed')\n",
    "plt.title('Northern Hemisphere - Wind Speed (mph) vs. Latitude Linear Regression 2/5/22')\n",
    "print(f\"The r-squared is: {rvalue**2}\")\n",
    "print(f\"The r is: {rvalue}\")\n",
    "plt.tight_layout()\n",
    "plt.savefig(\"../Images/regress_south_cloudiness_vs_lat.png\")\n",
    "plt.show()"
   ]
  },
  {
   "cell_type": "markdown",
   "metadata": {},
   "source": [
    "####  Southern Hemisphere - Wind Speed (mph) vs. Latitude Linear Regression"
   ]
  },
  {
   "cell_type": "markdown",
   "metadata": {},
   "source": [
    "Very Weak inverse correlation betwen Humidity and Lat in The Southern Hemp. This is not statistically significant."
   ]
  },
  {
   "cell_type": "code",
   "execution_count": 39,
   "metadata": {},
   "outputs": [
    {
     "name": "stdout",
     "output_type": "stream",
     "text": [
      "The r-squared is: 0.0916191146255649\n",
      "The r is: -0.3026864956114906\n"
     ]
    },
    {
     "data": {
      "image/png": "[encoded data removed]",
      "text/plain": [
       "<Figure size 432x288 with 1 Axes>"
      ]
     },
     "metadata": {
      "needs_background": "light"
     },
     "output_type": "display_data"
    }
   ],
   "source": [
    "x_values = clean_data_southern['Lat']\n",
    "y_values = clean_data_southern['Wind Speed']\n",
    "(slope, intercept, rvalue, pvalue, stderr) = linregress(x_values, y_values)\n",
    "\n",
    "# y = m(Slope)x + b (intecept)\n",
    "regress_values = x_values * slope + intercept\n",
    "# we get a list of regrss values that creates a line\n",
    "line_eq = \"y = \" + str(round(slope,2)) + \"x + \" + str(round(intercept,2))\n",
    "plt.scatter(x_values,y_values)\n",
    "plt.plot(x_values,regress_values,\"r-\")\n",
    "plt.annotate(line_eq,(-30,10),fontsize=15,color=\"red\")\n",
    "plt.xlabel('Latitude')\n",
    "plt.ylabel('Wind Speed')\n",
    "plt.title('Southern Hemisphere - Wind Speed (mph) vs. Latitude Linear Regression 2/5/22')\n",
    "print(f\"The r-squared is: {rvalue**2}\")\n",
    "print(f\"The r is: {rvalue}\")\n",
    "plt.show()"
   ]
  },
  {
   "cell_type": "code",
   "execution_count": null,
   "metadata": {},
   "outputs": [],
   "source": []
  }
 ],
 "metadata": {
  "anaconda-cloud": {},
  "kernel_info": {
   "name": "python3"
  },
  "kernelspec": {
   "display_name": "Python 3 (ipykernel)",
   "language": "python",
   "name": "python3"
  },
  "language_info": {
   "codemirror_mode": {
    "name": "ipython",
    "version": 3
   },
   "file_extension": ".py",
   "mimetype": "text/x-python",
   "name": "python",
   "nbconvert_exporter": "python",
   "pygments_lexer": "ipython3",
   "version": "3.9.7"
  },
  "latex_envs": {
   "LaTeX_envs_menu_present": true,
   "autoclose": false,
   "autocomplete": true,
   "bibliofile": "biblio.bib",
   "cite_by": "apalike",
   "current_citInitial": 1,
   "eqLabelWithNumbers": true,
   "eqNumInitial": 1,
   "hotkeys": {
    "equation": "Ctrl-E",
    "itemize": "Ctrl-I"
   },
   "labels_anchors": false,
   "latex_user_defs": false,
   "report_style_numbering": false,
   "user_envs_cfg": false
  },
  "nteract": {
   "version": "0.12.3"
  }
 },
 "nbformat": 4,
 "nbformat_minor": 4
}
